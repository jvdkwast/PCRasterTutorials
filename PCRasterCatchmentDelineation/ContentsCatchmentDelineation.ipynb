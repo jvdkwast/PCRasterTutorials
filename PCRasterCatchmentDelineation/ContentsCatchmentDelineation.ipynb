{
 "cells": [
  {
   "cell_type": "markdown",
   "metadata": {},
   "source": [
    "<!--NAVIGATION-->\n",
    "< [Introduction](Introduction_Catchment_Delineation.ipynb) >"
   ]
  },
  {
   "cell_type": "markdown",
   "metadata": {},
   "source": [
    "# Tutoriel sur la délimitation des cours d'eau et des bassins versants\n",
    "## Table des matières\n",
    "\n",
    "1. __[Introduction](Introduction_Catchment_Delineation.ipynb)__\n",
    "2. __[Mosaïque de MNT](Mosaic.ipynb)__\n",
    "3. __[Reprojeter et sous-ensembler un MNT](reprojectAndSubset.ipynb)__\n",
    "4. __[Convertir au format PCRaster](ConvertToPcraster.ipynb)__\n",
    "5. __[Calculer la Direction des flux](Flowdirection.ipynb)__\n",
    "6. __[Délimitation de cours d'eau (rivière)](Streams.ipynb)__\n",
    "7. __[Délimitation de bassins versants](CatchmentDelineation.ipynb)__\n",
    "8. __[Automatisation de la délimitation des cours d'eau et bassins versants](AutomateDelineation.ipynb)__"
   ]
  },
  {
   "cell_type": "markdown",
   "metadata": {},
   "source": [
    "*Par __[Hans van der Kwast](http://www.linkedin.com/in/jvdkwast)__*<br>\n",
    "*__[IHE Delft Institute for Water Education](http://www.un-ihe.org)__*<br>\n",
    "*Twitter: @hansakwast*\n",
    "\n",
    "*Ces matériels sont OpenCourseWare, sous licence [CC By-NC 4.0](https://creativecommons.org/licenses/by-nc/4.0/)*"
   ]
  },
  {
   "cell_type": "markdown",
   "metadata": {},
   "source": [
    "<!--NAVIGATION-->\n",
    "< [Introduction](Introduction_Catchment_Delineation.ipynb) >"
   ]
  }
 ],
 "metadata": {
  "kernelspec": {
   "display_name": "Python 3",
   "language": "python",
   "name": "python3"
  },
  "language_info": {
   "codemirror_mode": {
    "name": "ipython",
    "version": 3
   },
   "file_extension": ".py",
   "mimetype": "text/x-python",
   "name": "python",
   "nbconvert_exporter": "python",
   "pygments_lexer": "ipython3",
   "version": "3.7.10"
  }
 },
 "nbformat": 4,
 "nbformat_minor": 4
}
