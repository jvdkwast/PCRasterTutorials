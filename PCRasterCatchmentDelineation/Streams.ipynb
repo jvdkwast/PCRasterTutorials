{
 "cells": [
  {
   "cell_type": "markdown",
   "metadata": {},
   "source": [
    "<!--NAVIGATION-->\n",
    "< [Calculate Flow Direction](Flowdirection.ipynb) | [Contents](ContentsCatchmentDelineation.ipynb) | [Catchment Delineation](CatchmentDelineation.ipynb) >"
   ]
  },
  {
   "cell_type": "markdown",
   "metadata": {},
   "source": [
    "# 6. Délimitation de cours d'eau\n",
    "Dans cette étape, nous allons délimiter les cours d'eau. Nous appliquerons deux méthodes:\n",
    "* Utilisation des ordres de Strahler\n",
    "* Utilisation de l'accumulation de flux (écoulement)\n",
    "\n",
    "## 6.1 Méthode de Strahler\n",
    "Commençons par dériver les ordres de Strahler en utilisant l'opération <code>streamorder</code>.\n",
    "L'opération <code>streamorder</code> nécessite comme entrée, la carte de direction du flux créée dans la section précédente. Une description détaillée de l'opération <code>streamorder</code> peut être trouvée dans la [documentation de PCRaster](https://pcraster.geo.uu.nl/pcraster/4.3.0/documentation/pcraster_manual/sphinx/op_streamorder.html)."
   ]
  },
  {
   "cell_type": "code",
   "execution_count": null,
   "metadata": {},
   "outputs": [],
   "source": [
    "import os\n",
    "from pcraster import *\n",
    "os.chdir('./Data/')\n",
    "\n",
    "FlowDirection = readmap('flowdir.map')\n",
    "StrahlerOrders = streamorder(FlowDirection)\n",
    "aguila(StrahlerOrders)"
   ]
  },
  {
   "cell_type": "markdown",
   "metadata": {},
   "source": [
    "Changez la légende dans Aguila en une rampe allant du jaune au bleu, de sorte que les ordres supérieurs soient bleus, comme les rivières.\n",
    "\n",
    "Le type de données de la carte d'ordre de Strahler est ordinal, commençant à 1. Maintenant, nous devons déterminer après quel ordre de Strahler nous considérons que le flux est suffisamment important pour l'appeler une rivière. Nous faisons cela par le biais de la calibration. Calculons des cartes avec un ordre de Strahler de 1 au maximum et comparons-les avec OpenStreetMap.\n",
    "Nous déterminons d’abord l'ordre de Strahler maximum en utilisant l'opération <code>mapmaximum</code>. L'opération <code>mapmaximum</code> est une opération globale. Plus d'informations peuvent être trouvées dans la [documentation de PCRaster ](https://pcraster.geo.uu.nl/pcraster/4.3.0/documentation/pcraster_manual/sphinx/op_mapmaximum.html)."
   ]
  },
  {
   "cell_type": "code",
   "execution_count": null,
   "metadata": {},
   "outputs": [],
   "source": [
    "MaximumStrahlerOrder = mapmaximum(StrahlerOrders)"
   ]
  },
  {
   "cell_type": "markdown",
   "metadata": {},
   "source": [
    "Visualiser le résultat avec Aguila."
   ]
  },
  {
   "cell_type": "code",
   "execution_count": null,
   "metadata": {},
   "outputs": [],
   "source": []
  },
  {
   "cell_type": "markdown",
   "metadata": {},
   "source": [
    "Le problème est que le résultat est une carte PCRaster avec pour chaque pixel la valeur maximale de la carte. . Afin d'itérer sur les ordres de Strahler, nous avons besoin d'obtenir cette valeur. Nous pouvons utiliser l'opération <code>cellvalue</code>. L'opération <code>cellvalue</code> nécessite le raster  qui donne la valeur de la cellule en entrée ainsi qu'un numéro d'index de ligne et de colonne. Vu qu'ici, toutes les cellules sont les mêmes, nous pouvons donc simplement utiliser 0 pour l'index, en nous référant à la première ligne et à la première colonne du raster d'entrée."
   ]
  },
  {
   "cell_type": "code",
   "execution_count": null,
   "metadata": {},
   "outputs": [],
   "source": [
    "MaximumStrahlerOrderTuple = cellvalue(MaximumStrahlerOrder,0,0)\n",
    "print(MaximumStrahlerOrderTuple)"
   ]
  },
  {
   "cell_type": "markdown",
   "metadata": {},
   "source": [
    "L'opération <code>cellvalue</code> renvoie un tuple avec deux éléments : le premier est la valeur de la cellule, le second est une valeur booléenne qui indique si le premier élément, est valide ou non. Si le deuxième élément est False, la cellule contient une valeur manquante. Donc si nous voulons avoir la valeur, nous devons prendre le premier élément du tuple."
   ]
  },
  {
   "cell_type": "code",
   "execution_count": null,
   "metadata": {},
   "outputs": [],
   "source": [
    "MaximumStrahlerOrderValue = MaximumStrahlerOrderTuple[0]\n",
    "print(MaximumStrahlerOrderValue)"
   ]
  },
  {
   "cell_type": "markdown",
   "metadata": {},
   "source": [
    "Maintenant nous pouvons boucler (itérer) sur les ordres de Strahler et sauvegarder chaque carte plus grande ou égale à cet ordre."
   ]
  },
  {
   "cell_type": "code",
   "execution_count": null,
   "metadata": {},
   "outputs": [],
   "source": [
    "for order in range (1,MaximumStrahlerOrderValue + 1):\n",
    "    Stream = ifthen(StrahlerOrders >= order, boolean(1))\n",
    "    report(Stream,'stream'+str(order)+'.map')"
   ]
  },
  {
   "cell_type": "markdown",
   "metadata": {},
   "source": [
    "Visualisez les différents résultats et choisissez celui qui correspond le mieux à OpenStreetMap ou Google Satellite. Pour ce faire, vous pouvez charger les couches dans QGIS."
   ]
  },
  {
   "cell_type": "markdown",
   "metadata": {},
   "source": [
    "## 6.2 Méthode d'accumulation de  flux\n",
    "Afin d'estimer où se trouve la rivière, nous pouvons également utiliser la méthode d'accumulation des flux. Dans PCRaster, cela se fait avec l'opération [accuflux](https://pcraster.geo.uu.nl/pcraster/4.3.0/documentation/pcraster_manual/sphinx/op_accuflux.html). accumule le matériau (deuxième argument) dans la direction du flux. Ici, nous choisissons 1 pour toutes les cellules comme matériau."
   ]
  },
  {
   "cell_type": "code",
   "execution_count": null,
   "metadata": {},
   "outputs": [],
   "source": [
    "FlowAccumulation = accuflux(FlowDirection,1)"
   ]
  },
  {
   "cell_type": "markdown",
   "metadata": {},
   "source": [
    "Visualisez le résultat avec Aguila. Changez la légende en shifted logarithmic, en raison de la large gamme de valeurs."
   ]
  },
  {
   "cell_type": "code",
   "execution_count": null,
   "metadata": {},
   "outputs": [],
   "source": []
  },
  {
   "cell_type": "markdown",
   "metadata": {},
   "source": [
    "De la même manière qu'avec la méthode de Strahler, nous devons déterminer l'accumulation minimale de débit que nous considérons comme une rivière. Nous le faisons à nouveau en comparant les cartes booléennes avec une carte de référence. Commençons avec 9000 pixels."
   ]
  },
  {
   "cell_type": "code",
   "execution_count": null,
   "metadata": {},
   "outputs": [],
   "source": [
    "RiverFlow = ifthen(FlowAccumulation > 9000, boolean(1))"
   ]
  },
  {
   "cell_type": "markdown",
   "metadata": {},
   "source": [
    "Essayez avec différentes valeurs et vérifiez si cela correspond bien avec par exemple OpenStreetMap dans QGIS.\n",
    "\n",
    "Après la calibration, écrivez celle qui correspond le mieux sur le disque avec `report`."
   ]
  },
  {
   "cell_type": "code",
   "execution_count": null,
   "metadata": {},
   "outputs": [],
   "source": []
  },
  {
   "cell_type": "markdown",
   "metadata": {},
   "source": [
    "L'étape suivante consiste à délimiter le bassin versant appartenant à un exutoire donné."
   ]
  },
  {
   "cell_type": "markdown",
   "metadata": {},
   "source": [
    "<!--NAVIGATION-->\n",
    "< [Calculate Flow Direction](Flowdirection.ipynb) | [Contents](ContentsCatchmentDelineation.ipynb) | [Catchment Delineation](CatchmentDelineation.ipynb) >"
   ]
  }
 ],
 "metadata": {
  "kernelspec": {
   "display_name": "Python 3",
   "language": "python",
   "name": "python3"
  },
  "language_info": {
   "codemirror_mode": {
    "name": "ipython",
    "version": 3
   },
   "file_extension": ".py",
   "mimetype": "text/x-python",
   "name": "python",
   "nbconvert_exporter": "python",
   "pygments_lexer": "ipython3",
   "version": "3.7.10"
  }
 },
 "nbformat": 4,
 "nbformat_minor": 4
}
