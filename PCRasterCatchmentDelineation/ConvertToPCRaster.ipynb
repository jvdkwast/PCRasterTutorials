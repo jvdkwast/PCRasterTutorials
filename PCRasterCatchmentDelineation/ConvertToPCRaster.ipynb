{
 "cells": [
  {
   "cell_type": "markdown",
   "metadata": {},
   "source": [
    "<!--NAVIGATION-->\n",
    "< [Reproject and subset DEM](reprojectAndSubset.ipynb) | [Contents](ContentsCatchmentDelineation.ipynb) | [Calculate Flow Direction](Flowdirection.ipynb) >"
   ]
  },
  {
   "cell_type": "markdown",
   "metadata": {},
   "source": [
    "# 4. Convertir au format PCRaster\n",
    "Les étapes suivantes seront effectuées en utilisant PCRaster. Dans cette section, nous allons convertir le fichier <code>DEMSubset.tif</code> au format PCRaster. Nous utiliserons la même procédure que [celle que vous avez déjà apprise](Preparation.ipynb)."
   ]
  },
  {
   "cell_type": "markdown",
   "metadata": {},
   "source": [
    "Premièrement, nous définissons le chemin."
   ]
  },
  {
   "cell_type": "code",
   "execution_count": 1,
   "metadata": {},
   "outputs": [],
   "source": [
    "import os\n",
    "os.chdir('./Data/')"
   ]
  },
  {
   "cell_type": "markdown",
   "metadata": {},
   "source": [
    "Le MNT (DEM) est un raster continu, nous devons donc le convertir en une carte scalaire PCRaster."
   ]
  },
  {
   "cell_type": "code",
   "execution_count": null,
   "metadata": {},
   "outputs": [],
   "source": [
    "#Importer gdal\n",
    "from osgeo import gdal, gdalconst\n",
    "\n",
    "def ConvertToPCRaster(src_filename,dst_filename,ot,VS):\n",
    "    #Ouvrir l'ensemble de données disponible\n",
    "    src_ds = gdal.Open( src_filename )\n",
    "    \n",
    "    #GDAL Translate\n",
    "    dst_ds = gdal.Translate(dst_filename, src_ds, format='PCRaster', outputType=ot, metadataOptions=VS)\n",
    "    \n",
    "    #Fermez correctement les ensembles de données pour les transférer sur le disque\n",
    "    dst_ds = None\n",
    "    src_ds = None\n",
    "    \n",
    "ConvertToPCRaster(\"DEMsubset.tif\",\"dem.map\",gdalconst.GDT_Float32,\"VS_SCALAR\")"
   ]
  },
  {
   "cell_type": "markdown",
   "metadata": {},
   "source": [
    "Nous pouvons à présent utiliser le MNT dans PCRaster. Lisons la carte MNT et visualisons-la avec Aguila."
   ]
  },
  {
   "cell_type": "code",
   "execution_count": null,
   "metadata": {},
   "outputs": [],
   "source": [
    "from pcraster import *\n",
    "DEM = readmap('dem.map')\n",
    "aguila(DEM)"
   ]
  },
  {
   "cell_type": "markdown",
   "metadata": {},
   "source": [
    "L'étape suivante consiste à calculer la direction du flux."
   ]
  },
  {
   "cell_type": "markdown",
   "metadata": {},
   "source": [
    "<!--NAVIGATION-->\n",
    "< [Reproject and subset DEM](reprojectAndSubset.ipynb) | [Contents](ContentsCatchmentDelineation.ipynb) | [Calculate Flow Direction](Flowdirection.ipynb) >"
   ]
  }
 ],
 "metadata": {
  "kernelspec": {
   "display_name": "Python 3",
   "language": "python",
   "name": "python3"
  },
  "language_info": {
   "codemirror_mode": {
    "name": "ipython",
    "version": 3
   },
   "file_extension": ".py",
   "mimetype": "text/x-python",
   "name": "python",
   "nbconvert_exporter": "python",
   "pygments_lexer": "ipython3",
   "version": "3.7.10"
  }
 },
 "nbformat": 4,
 "nbformat_minor": 4
}
