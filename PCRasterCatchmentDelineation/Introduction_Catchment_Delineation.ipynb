{
 "cells": [
  {
   "cell_type": "markdown",
   "metadata": {},
   "source": [
    "<!--NAVIGATION-->\n",
    "< [Contents](ContentsCatchmentDelineation.ipynb) | [Mosaic SRTM DEM tiles](Mosaic.ipynb) >"
   ]
  },
  {
   "cell_type": "markdown",
   "metadata": {},
   "source": [
    "# 1. Introduction\n",
    "Dans cette leçon, nous allons délimiter les cours d'eau et les limites d'un bassin versant à partir d'un MNT.\n",
    "Dans le dossier `Data`, vous trouverez 4 tuiles MNT de SRTM au format GeoTIFF et un fichier de forme (shapefile) avec un contour grossier de la zone d'étude.\n",
    "\n",
    "Les étapes sont les suivantes:\n",
    "1. Mosaïque des tuiles MNT de SRTM\n",
    "2. Reprojeter et clipper (découper) le MNT\n",
    "3. Calculer la direction des flux\n",
    "4. Délimiter les cours d'eau\n",
    "5. Définir l'exutoire\n",
    "6. Délimiter le bassin versant\n",
    "\n",
    "Les étapes 1 et 2 sont réalisées avec GDAL dans Python. Ensuite, nous convertissons la sortie au format PCRaster et continuons avec les opérations PCRaster dans Python.\n",
    "\n",
    "Commençons par créer une mosaïque à partir des tuiles SRTM dans la section suivante."
   ]
  },
  {
   "cell_type": "markdown",
   "metadata": {},
   "source": [
    "<!--NAVIGATION-->\n",
    "< [Contents](ContentsCatchmentDelineation.ipynb) | [Mosaic SRTM DEM tiles](Mosaic.ipynb) >"
   ]
  }
 ],
 "metadata": {
  "kernelspec": {
   "display_name": "Python 3",
   "language": "python",
   "name": "python3"
  },
  "language_info": {
   "codemirror_mode": {
    "name": "ipython",
    "version": 3
   },
   "file_extension": ".py",
   "mimetype": "text/x-python",
   "name": "python",
   "nbconvert_exporter": "python",
   "pygments_lexer": "ipython3",
   "version": "3.7.10"
  }
 },
 "nbformat": 4,
 "nbformat_minor": 4
}
