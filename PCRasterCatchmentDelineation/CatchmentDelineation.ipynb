{
 "cells": [
  {
   "cell_type": "markdown",
   "metadata": {},
   "source": [
    "<!--NAVIGATION-->\n",
    "< [Delineate streams](Streams.ipynb) | [Contents](ContentsCatchmentDelineation.ipynb) | [Automate stream and catchment delineation](AutomateDelineation.ipynb) >"
   ]
  },
  {
   "cell_type": "markdown",
   "metadata": {},
   "source": [
    "# 7. Délimitation des bassins versants\n",
    "Dans cette section, nous allons délimiter le bassin versant d’un exutoire et tous les bassins versants dans le MNT.\n",
    "\n",
    "Commençons par importer les bibliothèques et définir le chemin vers les données."
   ]
  },
  {
   "cell_type": "code",
   "execution_count": 8,
   "metadata": {},
   "outputs": [],
   "source": [
    "import os\n",
    "from pcraster import *\n",
    "os.chdir('./Data/')"
   ]
  },
  {
   "cell_type": "markdown",
   "metadata": {},
   "source": [
    "## 7.1 Délimitation du bassin versant d'un exutoire\n",
    "\n",
    "Nous devons d'abord identifier un exutoire sur le cours d'eau délimité à l'étape précédente. Vous pouvez utiliser le résultat de la méthode de l'ordre de Strahler ou de la méthode d'accumulation des flux pour trouver les pixels qui font partie de la rivière. Vous pouvez utiliser QGIS ou Aguila pour trouver les coordonnées. Dans Aguila, vous pouvez le faire en utilisant l'outil crosshair.\n",
    "\n",
    "Vous pouvez utiliser les champs ci-dessous pour charger la carte de la rivière de la section précédente, visualiser avec Aguila et trouver les coordonnées d'un pixel sur la carte de la rivière que nous voulons utiliser comme exutoire pour le bassin versant que nous allons délimiter."
   ]
  },
  {
   "cell_type": "code",
   "execution_count": null,
   "metadata": {},
   "outputs": [],
   "source": [
    "river = readmap(\"stream8.map\")"
   ]
  },
  {
   "cell_type": "markdown",
   "metadata": {},
   "source": [
    "Visualiser la carte de la rivière"
   ]
  },
  {
   "cell_type": "code",
   "execution_count": null,
   "metadata": {},
   "outputs": [],
   "source": []
  },
  {
   "cell_type": "markdown",
   "metadata": {},
   "source": [
    "Utilisons 288880.648,5675880.258 comme coordonnées de l'exuctoire.\n",
    "PCRaster est fourni avec un outil <code>col2map</code>, qui lit un fichier texte au format:\n",
    "\n",
    "`x y id`\n",
    "\n",
    "et le convertit en carte PCRaster. Vous pouvez lancer l'outil depuis la ligne de commande, mais ici nous allons l'intégrer dans une fonction Python. Vous trouverez plus d'informations sur l'outil `col2map` dans la [documentation de PCRaster](https://pcraster.geo.uu.nl/pcraster/4.3.0/documentation/pcraster_manual/sphinx/app_col2map.html)\n",
    "\n",
    "L'outil a des arguments pour le type de données et a besoin d'une carte clone. Dans notre cas, la sortie sera un raster nominal avec un pixel qui a un numéro d'identification. Pour le clone, nous pouvons utiliser la carte de la rivière."
   ]
  },
  {
   "cell_type": "code",
   "execution_count": null,
   "metadata": {},
   "outputs": [],
   "source": [
    "def col2map(x,y,id,datatype,clone):\n",
    "    with open('location.txt', 'w') as f:\n",
    "        f.write(str(x) + ' ' + str(y) + ' ' + str(id))\n",
    "    cmd = 'col2map -{0} location.txt location.map --clone {1}'.format(datatype,clone)\n",
    "    print(cmd)\n",
    "    os.system(cmd)\n",
    "    Map = readmap('location.map')\n",
    "    return Map\n",
    "\n",
    "x = 288880.648\n",
    "y = 5675880.258\n",
    "id = 1\n",
    "datatype = 'N'\n",
    "clone = 'stream8.map'\n",
    "Outlet = col2map(x,y,id,datatype,clone)\n",
    "aguila(Outlet,river)"
   ]
  },
  {
   "cell_type": "markdown",
   "metadata": {},
   "source": [
    "La fonction créé un fichier texte. Nous avons écrit une chaîne de caractères avec \"x y id\" dans le fichier. Ensuite, la commande a été construite comme une chaîne de caractères (string) et nous avons exécuté la commande string avec <code>os.system</code>.\n",
    "\n",
    "Nous avons également imprimé la commande string après avoir exécuté le script. Cette commande aurait pu être tapée à l'invite de commande.\n",
    "\n",
    "Maintenant que nous avons défini l’exutoire de notre rivière, nous pouvons délimiter le bassin versant qui contribue à cet exutoire en utilisant l'opération <code>catchment</code>. L'opération <code>catchment</code>  nécessite la carte de direction du flux et la carte de l’exutoire comme entrées. Plus d'informations sur l'opération <code>catchment</code>  peuvent être trouvées dans la [documentation de PCRaster](https://pcraster.geo.uu.nl/pcraster/4.3.0/documentation/pcraster_manual/sphinx/op_catchment.html)."
   ]
  },
  {
   "cell_type": "code",
   "execution_count": null,
   "metadata": {},
   "outputs": [],
   "source": [
    "FlowDirection = readmap('flowdir.map')\n",
    "RurCatchment = catchment(FlowDirection,Outlet)"
   ]
  },
  {
   "cell_type": "markdown",
   "metadata": {},
   "source": [
    "Visualiser le résultat avec Aguila."
   ]
  },
  {
   "cell_type": "code",
   "execution_count": null,
   "metadata": {},
   "outputs": [],
   "source": []
  },
  {
   "cell_type": "markdown",
   "metadata": {},
   "source": [
    "## 7.2 Délimitation de tous les bassins versants dans le MNT\n",
    "\n",
    "Il s’est agi pour le moment du bassin versant d'un exutoire donné. Si nous voulons dériver automatiquement tous les bassins versants dans le raster, nous devons d'abord trouver les emplacement (pit), qui peuvent être considérées comme des exutoires. Cela peut être fait avec l'opération <code>pit</code>. Plus d'informations sur l'opération <code>pit</code>  peuvent être trouvées dans la [documentation de PCRaster](https://pcraster.geo.uu.nl/pcraster/4.3.0/documentation/pcraster_manual/sphinx/op_pit.html). Elle nécessite uniquement la carte de direction des flux comme entrée."
   ]
  },
  {
   "cell_type": "code",
   "execution_count": null,
   "metadata": {},
   "outputs": [],
   "source": [
    "outlets = pit(FlowDirection)"
   ]
  },
  {
   "cell_type": "markdown",
   "metadata": {},
   "source": [
    "Visualiser le résultat avec Aguila."
   ]
  },
  {
   "cell_type": "code",
   "execution_count": null,
   "metadata": {},
   "outputs": [],
   "source": []
  },
  {
   "cell_type": "markdown",
   "metadata": {},
   "source": [
    "*Ou sont situé les emplacements (pits)?*\n",
    "\n",
    "*Combien il y en a t-il?*"
   ]
  },
  {
   "cell_type": "markdown",
   "metadata": {},
   "source": [
    "Maintenant nous pouvons utiliser ces exutoires (emplacements) dans l'opération <code>catchment</code> pour dériver tous les bassins versants dans le raster."
   ]
  },
  {
   "cell_type": "code",
   "execution_count": null,
   "metadata": {},
   "outputs": [],
   "source": [
    "Catchments = catchment(FlowDirection, outlets)"
   ]
  },
  {
   "cell_type": "markdown",
   "metadata": {},
   "source": [
    "Visualiser le résultat avec Aguila."
   ]
  },
  {
   "cell_type": "code",
   "execution_count": null,
   "metadata": {},
   "outputs": [],
   "source": []
  },
  {
   "cell_type": "markdown",
   "metadata": {},
   "source": [
    "*Que voyez vous?*\n",
    "\n",
    "*Pourquoi y a-t-il autant de bassin versant à la limite de la zone?*"
   ]
  },
  {
   "cell_type": "markdown",
   "metadata": {},
   "source": [
    "Dans la section suivante, nous allons combiner tout le code en un seul script pour automatiser le processus autant que possible."
   ]
  },
  {
   "cell_type": "markdown",
   "metadata": {},
   "source": [
    "<!--NAVIGATION-->\n",
    "< [Delineate streams](Streams.ipynb) | [Contents](ContentsCatchmentDelineation.ipynb) | [Automate stream and catchment delineation](AutomateDelineation.ipynb) >"
   ]
  }
 ],
 "metadata": {
  "kernelspec": {
   "display_name": "Python 3",
   "language": "python",
   "name": "python3"
  },
  "language_info": {
   "codemirror_mode": {
    "name": "ipython",
    "version": 3
   },
   "file_extension": ".py",
   "mimetype": "text/x-python",
   "name": "python",
   "nbconvert_exporter": "python",
   "pygments_lexer": "ipython3",
   "version": "3.7.10"
  }
 },
 "nbformat": 4,
 "nbformat_minor": 4
}
