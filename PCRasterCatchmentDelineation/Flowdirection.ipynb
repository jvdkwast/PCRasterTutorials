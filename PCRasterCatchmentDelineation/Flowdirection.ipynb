{
 "cells": [
  {
   "cell_type": "markdown",
   "metadata": {},
   "source": [
    "<!--NAVIGATION-->\n",
    "< [Convert to PCRaster Format](ConvertToPcraster.ipynb) | [Contents](ContentsCatchmentDelineation.ipynb) | [Delineate streams](Streams.ipynb) >"
   ]
  },
  {
   "cell_type": "markdown",
   "metadata": {},
   "source": [
    "# 5. Calcul de la direction des flux\n",
    "Dans la procédure de délimitation des cours d'eau et des bassins versants, nous devons d'abord supprimer les dépressions dans le MNT (DEM). Les dépressions sont des pixels entourés uniquement de pixels plus élevés. Un bassin versant ne peut avoir qu'une seule dépression, l’exutoire, donc les autres dépressions doivent être supprimées par une procédure appelée \"fill sinks (combler les éviers) \".\n",
    "L'opération <code>lddcreate</code> dans PCRaster va à la fois combler le MNT et dériver la direction du flux . L'opération <code>lddcreate</code> nécessite le MNT comme entrée et a 4 arguments pour controler les seuils de l'algorithme de comblement. Les détails peuvent être trouvés dans la [documention de PCRaster](https://pcraster.geo.uu.nl/pcraster/4.3.0/documentation/pcraster_manual/sphinx/op_lddcreate.html).\n",
    "\n",
    "Nous voulons supprimer toutes les depressions, nous avons donc fixé les seuils à un nombre très élevé, 1e31.\n",
    "\n",
    "Soyez patient lorsque vous exécutez le code ci-dessous, cela prendra du temps."
   ]
  },
  {
   "cell_type": "code",
   "execution_count": null,
   "metadata": {},
   "outputs": [],
   "source": [
    "import os\n",
    "from pcraster import *\n",
    "os.chdir('./Data/')\n",
    "\n",
    "DEM = readmap('dem.map')\n",
    "FlowDirection = lddcreate(DEM,1e31,1e31,1e31,1e31)\n",
    "report(FlowDirection,'flowdir.map')\n",
    "aguila(FlowDirection)"
   ]
  },
  {
   "cell_type": "markdown",
   "metadata": {},
   "source": [
    "Vérifiez le résultat en faisant un zoom avant. La carte de direction du flux a le type de données ldd. Aguila le reconnaît et visualise la direction du flux de manière plus intuitive par des lignes connectées. Chaque bassin versant a une depression, indiquée par un carré.\n",
    "\n",
    "*Quelle est la direction générale de l'écoulement?*\n",
    "\n",
    "*Pourquoi avons-nous autant de depressions (pits) sur les côtés de la carte?*"
   ]
  },
  {
   "cell_type": "markdown",
   "metadata": {},
   "source": [
    "Bien que nous puissions poursuivre avec la carte de direction du flux, vous pourriez vouloir créer un MNT comblé. Vous pouvez utiliser l'opération <code>lddcreatedem</code> pour cela. Elle a les même arguments que <code>lddcreate</code> mais donne un MNT corrigé (hydrologiquement) commme résultat."
   ]
  },
  {
   "cell_type": "code",
   "execution_count": null,
   "metadata": {},
   "outputs": [],
   "source": [
    "DEMFilled = lddcreatedem(DEM,1e31,1e31,1e31,1e31)"
   ]
  },
  {
   "cell_type": "markdown",
   "metadata": {},
   "source": [
    "Dans le champ ci-dessous, visualisez le résultat et calculez la différence entre <code>DEM</code> et <code>DEMFilled</code> en utilisant l'algèbre de carte."
   ]
  },
  {
   "cell_type": "code",
   "execution_count": null,
   "metadata": {},
   "outputs": [],
   "source": []
  },
  {
   "cell_type": "markdown",
   "metadata": {},
   "source": [
    "Dans l'étape suivante, nous allons délimiter les cours d'eau (rivière)."
   ]
  },
  {
   "cell_type": "markdown",
   "metadata": {},
   "source": [
    "<!--NAVIGATION-->\n",
    "< [Convert to PCRaster Format](ConvertToPcraster.ipynb) | [Contents](ContentsCatchmentDelineation.ipynb) | [Delineate streams](Streams.ipynb) >"
   ]
  }
 ],
 "metadata": {
  "kernelspec": {
   "display_name": "Python 3",
   "language": "python",
   "name": "python3"
  },
  "language_info": {
   "codemirror_mode": {
    "name": "ipython",
    "version": 3
   },
   "file_extension": ".py",
   "mimetype": "text/x-python",
   "name": "python",
   "nbconvert_exporter": "python",
   "pygments_lexer": "ipython3",
   "version": "3.7.10"
  }
 },
 "nbformat": 4,
 "nbformat_minor": 4
}
