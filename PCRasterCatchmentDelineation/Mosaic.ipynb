{
 "cells": [
  {
   "cell_type": "markdown",
   "metadata": {},
   "source": [
    "<!--NAVIGATION-->\n",
    "< [Introduction](Introduction_Catchment_Delineation.ipynb) | [Contents](ContentsCatchmentDelineation.ipynb) | [Reproject and Subset](reprojectAndSubset.ipynb) >"
   ]
  },
  {
   "cell_type": "markdown",
   "metadata": {},
   "source": [
    "# 2. Mosaïque des tuiles MNT de SRTM"
   ]
  },
  {
   "cell_type": "markdown",
   "metadata": {},
   "source": [
    "La première étape consiste à créer une mosaïque avec les tuiles MNT en une seule couche matricielle.\n",
    "\n",
    "Les données utilisées dans ce tutoriel sont dans le dossier `Data`. Définissons d'abord le chemin."
   ]
  },
  {
   "cell_type": "code",
   "execution_count": null,
   "metadata": {},
   "outputs": [],
   "source": [
    "import os\n",
    "os.chdir('./Data')\n",
    "print(os.getcwd())"
   ]
  },
  {
   "cell_type": "markdown",
   "metadata": {},
   "source": [
    "Maintenant, nous pouvons faire une liste de tous les fichiers GeoTIFF dans un dossier. Nous utilisons le module <code>glob</code> module pour trouver tous les fichiers correspondant à l'extension <code>.tif</code>."
   ]
  },
  {
   "cell_type": "code",
   "execution_count": null,
   "metadata": {},
   "outputs": [],
   "source": [
    "import glob\n",
    "from osgeo import gdal\n",
    "\n",
    "inputFiles = glob.glob('*.tif')\n",
    "print(inputFiles)"
   ]
  },
  {
   "cell_type": "markdown",
   "metadata": {},
   "source": [
    "Comme vous pouvez le voir, nous avons créé une liste de tous les fichiers GeoTIFF du dossier.\n",
    "Maintenant nous allons utiliser cette liste pour créer une mosaïque dans un fichier virtuel (<code>.vrt</code>). Un fichier virtuel est très efficace dans ce cas, car il ne recrée pas tout l'ensemble de données, mais décrit simplement comment les tuiles sont connectées. Nous utilisons <code>gdal.BuildVRT</code> pour cela, avec les paramètres par défaut. Il nécessite seulement le nom du fichier de sortie (<code>mosaic.vrt</code>) et de la liste des fichiers d'entrée. Nous devons ajouter  <code>FlushCache()</code> pour écrire la couche sur le disque."
   ]
  },
  {
   "cell_type": "code",
   "execution_count": null,
   "metadata": {},
   "outputs": [],
   "source": [
    "mosaic = gdal.BuildVRT('mosaic.vrt',inputFiles)\n",
    "mosaic.FlushCache()"
   ]
  },
  {
   "cell_type": "markdown",
   "metadata": {},
   "source": [
    "Vous pouvez maintenant ouvrir la couche <code>mosaic.vrt</code> dans QGIS pour vérifier le résultat."
   ]
  },
  {
   "cell_type": "markdown",
   "metadata": {},
   "source": [
    "L'étape suivante consiste à reprojeter et à créer un sous-ensemble de la mosaïque afin d'obtenir une zone plus petite pour continuer."
   ]
  },
  {
   "cell_type": "markdown",
   "metadata": {},
   "source": [
    "<!--NAVIGATION-->\n",
    "< [Introduction](Introduction_Catchment_Delineation.ipynb) | [Contents](ContentsCatchmentDelineation.ipynb) | [Reproject and Subset](reprojectAndSubset.ipynb) >"
   ]
  }
 ],
 "metadata": {
  "kernelspec": {
   "display_name": "Python 3",
   "language": "python",
   "name": "python3"
  },
  "language_info": {
   "codemirror_mode": {
    "name": "ipython",
    "version": 3
   },
   "file_extension": ".py",
   "mimetype": "text/x-python",
   "name": "python",
   "nbconvert_exporter": "python",
   "pygments_lexer": "ipython3",
   "version": "3.7.10"
  }
 },
 "nbformat": 4,
 "nbformat_minor": 4
}
