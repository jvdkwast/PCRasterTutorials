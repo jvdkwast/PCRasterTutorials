{
 "cells": [
  {
   "cell_type": "markdown",
   "metadata": {},
   "source": [
    "<!--NAVIGATION-->\n",
    "< [Mosaic](Mosaic.ipynb) | [Contents](ContentsCatchmentDelineation.ipynb) | [Convert to PCRaster Format](ConvertToPCRaster.ipynb) >"
   ]
  },
  {
   "cell_type": "markdown",
   "metadata": {},
   "source": [
    "# 3. Reprojecter et créer un sous-ensemble du MNT"
   ]
  },
  {
   "cell_type": "markdown",
   "metadata": {},
   "source": [
    "Dans cette section, nous allons réduire la mosaïque suivant une fenêtre de délimitation plus petite afin de réduire les temps de calcul. Dans la pratique, vous devrez estimer une limite approximative. Dans la même étape, nous reprojetons le MNT à  UTM Zone 32 N / WGS-84 (EPSG : 32632).\n",
    "\n",
    "Commençons par définir le chemin."
   ]
  },
  {
   "cell_type": "code",
   "execution_count": null,
   "metadata": {},
   "outputs": [],
   "source": [
    "import os\n",
    "os.chdir('./Data/')\n",
    "print(os.getcwd())"
   ]
  },
  {
   "cell_type": "markdown",
   "metadata": {},
   "source": [
    "Maintenant, nous allons créer une fonction pour reprojeter et clipper (découper) la mosaïque en utilisant  <code>gdal.Warp</code>. Avec <code>gdal.WarpOptions</code> vous pouvez choisir différentes options qui sont décrites  [ici](https://gdal.org/python/osgeo.gdal-module.html#WarpOptions).\n",
    "\n",
    "Dans le présent cas, nous utilisons :\n",
    "\n",
    "* <code>cutlineDSName=shapefile</code> pour définir le shapefile que nous utilisons pour le découpage (clipping). Ici <code>boundingbox.shp</code>\n",
    "* <code>cropToCutline=True</code> pour utiliser l'étendue de la ligne de coupe pour les limites de sortie\n",
    "* <code>format='GTIFF'</code> pour indiquer que le format de sortie est GeoTIFF\n",
    "* <code>dstSRS=projection</code> pour définir la projection cible de sortie, qui dans notre cas est EPSG: 32632.\n",
    "* <code>xRes,yRes</code> sont les dimensions x et y des pixels que nous fixons toutes deux à 30 m.\n",
    "\n",
    "Ensuite <code>gdal.Warp</code> utilise <code>srcDSOrSrcDSTab</code> pour définir le raster d'entrée et  <code>destNameOrDestDS</code> pour définir le raster de sortie. Nous ajoutons également les <code>options</code> de <code>gdal.WarpOptions</code>.\n",
    "\n",
    "Nous écrivons cela dans une fonction pour que cela reste lisible."
   ]
  },
  {
   "cell_type": "code",
   "execution_count": null,
   "metadata": {},
   "outputs": [],
   "source": [
    "from osgeo import gdal\n",
    "def reprojectAndClip(inputraster,outputraster,projection,shapefile,resolution):\n",
    "    options = gdal.WarpOptions(cutlineDSName=shapefile,\n",
    "                           cropToCutline=True,\n",
    "                           format='GTIFF',\n",
    "                           dstSRS=projection,\n",
    "                           xRes=resolution,\n",
    "                           yRes=resolution)\n",
    "    outimage=gdal.Warp(srcDSOrSrcDSTab=inputraster,\n",
    "                           destNameOrDestDS=outputraster,\n",
    "                           options=options)\n",
    "Mosaic = 'mosaic.vrt'\n",
    "Polygon = 'boundingbox.shp'\n",
    "EPSG = 'EPSG:32632'\n",
    "spatialResolution = 30\n",
    "DEMSubset = 'DEMsubset.tif'\n",
    "reprojectAndClip(Mosaic,DEMSubset,EPSG,Polygon,spatialResolution)"
   ]
  },
  {
   "cell_type": "markdown",
   "metadata": {},
   "source": [
    "Vérifiez le résultat dans QGIS.\n",
    "\n",
    "Le reste du cheminement (workflow) sera réalisé avec PCRaster. Ainsi, dans la section suivante, nous allons convertir le sous-ensemble MNT au format PCRaster en utilisant GDAL dans Python."
   ]
  },
  {
   "cell_type": "markdown",
   "metadata": {},
   "source": [
    "<!--NAVIGATION-->\n",
    "< [Mosaic](Mosaic.ipynb) | [Contents](ContentsCatchmentDelineation.ipynb) | [Convert to PCRaster Format](ConvertToPCRaster.ipynb) >"
   ]
  }
 ],
 "metadata": {
  "kernelspec": {
   "display_name": "Python 3",
   "language": "python",
   "name": "python3"
  },
  "language_info": {
   "codemirror_mode": {
    "name": "ipython",
    "version": 3
   },
   "file_extension": ".py",
   "mimetype": "text/x-python",
   "name": "python",
   "nbconvert_exporter": "python",
   "pygments_lexer": "ipython3",
   "version": "3.7.10"
  }
 },
 "nbformat": 4,
 "nbformat_minor": 4
}
