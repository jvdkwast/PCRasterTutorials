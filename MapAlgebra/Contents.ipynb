{
 "cells": [
  {
   "cell_type": "markdown",
   "metadata": {},
   "source": [
    "<!--NAVIGATION-->\n",
    "< [Introduction](Introduction.ipynb)>"
   ]
  },
  {
   "cell_type": "markdown",
   "metadata": {},
   "source": [
    "# Algèbre Cartographique avec PCRaster Python\n",
    "\n",
    "\n",
    "## Contenus\n",
    "### __[1. Introduction](Introduction.ipynb)__\n",
    "### __[2. Préparation](Preparation.ipynb)__\n",
    "### __[3. Condition 1: Puits à moins de 150 mètres des maisons ou des routes](Condition_1.ipynb)__\n",
    "### __[4. Condition 2: Pas d’industrie, de mine ou de décharge à moins de 300 mètres des puits](Condition_2.ipynb)__\n",
    "### __[5. Condition 3: Puits de moins de 40 mètres de profondeur](Condition_2.ipynb)__\n",
    "### __[6. Combinez les trois conditions](Combine.ipynb)__\n",
    "### __[7. Quel est l’avantage de l’algèbre cartographique par scriptage?](Conclusion_map_algebra.ipynb)__"
   ]
  },
  {
   "cell_type": "markdown",
   "metadata": {},
   "source": [
    "*Par __[Hans van der Kwast](http://www.linkedin.com/in/jvdkwast)__*<br>\n",
    "*__[Institut IHE Delft pour l'Education sur l'Eau](http://www.un-ihe.org)__*<br>\n",
    "*Twitter: @hansakwast*\n",
    "\n",
    "*Ces matériels sont OpenCourseWare, sous licence en tant que [CC By-NC 4.0](https://creativecommons.org/licenses/by-nc/4.0/)*"
   ]
  },
  {
   "cell_type": "markdown",
   "metadata": {},
   "source": [
    "<!--NAVIGATION-->\n",
    "< [Introduction](Introduction.ipynb)>"
   ]
  }
 ],
 "metadata": {
  "kernelspec": {
   "display_name": "Python 3",
   "language": "python",
   "name": "python3"
  },
  "language_info": {
   "codemirror_mode": {
    "name": "ipython",
    "version": 3
   },
   "file_extension": ".py",
   "mimetype": "text/x-python",
   "name": "python",
   "nbconvert_exporter": "python",
   "pygments_lexer": "ipython3",
   "version": "3.8.8"
  }
 },
 "nbformat": 4,
 "nbformat_minor": 4
}
