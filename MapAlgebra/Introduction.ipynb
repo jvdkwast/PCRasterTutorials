{
 "cells": [
  {
   "cell_type": "markdown",
   "metadata": {},
   "source": [
    "<!--NAVIGATION-->\n",
    "< [Contenus](Contents.ipynb) | [Préparation](Preparation.ipynb) >"
   ]
  },
  {
   "cell_type": "markdown",
   "metadata": {},
   "source": [
    "# 1. Introduction\n",
    "Avec l’algèbre cartographique, nous pouvons faire des calculs avec des couches raster. Ceci est utile pour l’analyse spatiale. Par exemple, lorsque nous devons évaluer différents critères pour trouver des emplacements appropriés ou inappropriés, nous pouvons utiliser l’algèbre cartographique.\n",
    "\n",
    "Après cette leçon, vous serez en mesure de:\n",
    "\n",
    "* appliquer l’algèbre cartographique pour l’analyse raster \n",
    "* distinguer les rasters booléens, discrets et continus\n",
    "* créer des légendes pour les cartes booléennes, discrètes et continues \n",
    "* comprendre l’utilisation de Nodata \n",
    "* utiliser des opérateurs logiques \n",
    "* calculer les distances des rasters \n",
    "* reclasser les rasters\n",
    "\n",
    "### Etude de cas\n",
    "Dans cette leçon, nous aborderons les cas suivants.\n",
    "La municipalité de (imaginaire) oasis Aïn Kju Dzjis vous a engagé pour analyser quels puits ne conviennent pas à ses habitants en fonction des conditions suivantes:\n",
    "\n",
    "_Condition 1:_\n",
    "Les puits doivent se situer à moins de 150 mètres des maisons ou des routes.\n",
    "\n",
    "_Condition 2:_\n",
    "Pas d’industrie, de mine ou de site de décharge à moins de 300 mètres des puits.\n",
    "\n",
    "_Condition 3:_\n",
    "Les puits doivent avoir moins de 40 mètres de profondeur.\n",
    "\n",
    "Vous utiliserez l’algèbre cartographique pour effectuer l’analyse requise.\n",
    "\n",
    "Cette leçon suivra ce flux de travail:\n",
    "\n",
    "![](Images/Flowchart.PNG)\n",
    "\n",
    "\n",
    "### Logiciels et données\n",
    "\n",
    "Les exercices utilisent le logiciel PCRaster Python. Pour obtenir des instructions d’installation, cliquez __[ici](http://pcraster.geo.uu.nl/quick-start-guide/)__. Ce tutoriel est basé sur PCRaster 4.3 pour Python 3.\n",
    "\n",
    "Les couches raster de cette leçon se trouvent dans le dossier Data."
   ]
  },
  {
   "cell_type": "markdown",
   "metadata": {},
   "source": [
    "<!--NAVIGATION-->\n",
    "< [Contenus](Contents.ipynb) | [Préparation](Preparation.ipynb) >"
   ]
  }
 ],
 "metadata": {
  "kernelspec": {
   "display_name": "Python 3",
   "language": "python",
   "name": "python3"
  },
  "language_info": {
   "codemirror_mode": {
    "name": "ipython",
    "version": 3
   },
   "file_extension": ".py",
   "mimetype": "text/x-python",
   "name": "python",
   "nbconvert_exporter": "python",
   "pygments_lexer": "ipython3",
   "version": "3.8.8"
  }
 },
 "nbformat": 4,
 "nbformat_minor": 4
}
