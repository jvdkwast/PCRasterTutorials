{
 "cells": [
  {
   "cell_type": "markdown",
   "metadata": {},
   "source": [
    "<!--NAVIGATION-->\n",
    "< [Contents](Contents.ipynb) | [Preparation](Preparation.ipynb) >"
   ]
  },
  {
   "cell_type": "markdown",
   "metadata": {},
   "source": [
    "# 1. Introduction\n",
    "With map algebra we can do calculations with raster layers. This is useful for spatial analysis. For example, when we need to evaluate different criteria to find suitable or unsuitable locations we can use map algebra.\n",
    "\n",
    "After this lesson you will be able to:\n",
    "\n",
    "* apply map algebra for raster analysis\n",
    "* distinguish Boolean, discrete, and continuous rasters\n",
    "* make legends for Boolean, discrete, and continuous maps\n",
    "* understand the use of Nodata\n",
    "* use logical operators\n",
    "* calculate distances from rasters\n",
    "* reclassify rasters\n",
    "\n",
    "\n",
    "### Case study\n",
    "In this lesson we'll address the following case.\n",
    "The municipality of the (imaginary) oasis Aïn Kju Dzjis has hired you to analyse which wells are unsuitable for its inhabitants based on the following conditions:\n",
    "\n",
    "_Condition 1:_\n",
    "The wells should be within 150 meters of houses or roads.\n",
    "\n",
    "_Condition 2:_\n",
    "No industry, mine, or landfill within 300 meters of the wells.\n",
    "\n",
    "_Condition 3:_\n",
    "The wells should be less than 40 meters deep.\n",
    "\n",
    "You will use map algebra to perform the required analysis.\n",
    "\n",
    "This lesson will follow this workflow:\n",
    "\n",
    "![](Images/Flowchart.PNG)\n",
    "\n",
    "\n",
    "### Software and data\n",
    "\n",
    "The exercises use the PCRaster Python software. For installation instructions (not needed if you follow this online in Binder!) click __[here](https://pcraster.geo.uu.nl/pcraster/4.4.0/documentation/pcraster_project/install.html)__. This tutorial is based on PCRaster 4.4 for Python 3.\n",
    "\n",
    "The raster layers for this lesson can be found in the Data folder. \n",
    "\n",
    "If you're running this from Binder you don't need to bother about this.\n"
   ]
  },
  {
   "cell_type": "markdown",
   "metadata": {},
   "source": [
    "<!--NAVIGATION-->\n",
    "< [Contents](Contents.ipynb) | [Preparation](Preparation.ipynb) >"
   ]
  }
 ],
 "metadata": {
  "kernelspec": {
   "display_name": "Python 3 (ipykernel)",
   "language": "python",
   "name": "python3"
  },
  "language_info": {
   "codemirror_mode": {
    "name": "ipython",
    "version": 3
   },
   "file_extension": ".py",
   "mimetype": "text/x-python",
   "name": "python",
   "nbconvert_exporter": "python",
   "pygments_lexer": "ipython3",
   "version": "3.9.13"
  }
 },
 "nbformat": 4,
 "nbformat_minor": 4
}
