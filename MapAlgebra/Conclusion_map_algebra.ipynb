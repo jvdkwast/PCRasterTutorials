{
 "cells": [
  {
   "cell_type": "markdown",
   "metadata": {},
   "source": [
    "<!--NAVIGATION-->\n",
    "< [Combinez les trois conditions](Combine.ipynb) | [Contenus](Contents.ipynb) >"
   ]
  },
  {
   "cell_type": "markdown",
   "metadata": {},
   "source": [
    "# 7. Quel est l’avantage de l’algèbre cartographique par scriptage ?"
   ]
  },
  {
   "cell_type": "markdown",
   "metadata": {},
   "source": [
    "La même procédure pourrait être facilement effectuée dans QGIS comme vous pouvez le voir dans [ce tutoriel](https://courses.gisopencourseware.org/mod/book/view.php?id=68). Alors, quels sont alors les avantages de coder cela au lieu d’utiliser une interface utilisateur graphique (GUI)?\n",
    "\n",
    "1. Vous avez plus de contrôle sur les fonctions, car vous déterminez chaque argument et opérateur que vous utilisez. \n",
    "2. Le processus devient reproductible. N’importe qui d’autre peut exécuter le script avec les données d’entrée pour obtenir les mêmes résultats. Le code est transparent (open source). \n",
    "3. Vous pouvez facilement modifier le critère et voir comment cela affecte le résultat.\n",
    "\n",
    "Par conséquent, nous allons mettre tout le code que nous avons utilisé dans ce didacticiel dans un même script, où certains processus sont écrits en tant que fonctions. Vous pouvez d’abord l’essayer vous-même. Vous trouverez ci-dessous la réponse."
   ]
  },
  {
   "cell_type": "code",
   "execution_count": null,
   "metadata": {},
   "outputs": [],
   "source": []
  },
  {
   "cell_type": "code",
   "execution_count": null,
   "metadata": {},
   "outputs": [],
   "source": [
    "# Importez la bibliothèque \n",
    "from pcraster import *\n",
    "\n",
    "def WithinDistance(raster,maxdistance):\n",
    "    ResultWithinDistance = spreadmaxzone(raster, 0, 1, maxdistance)\n",
    "    return ResultWithinDistance\n",
    "    \n",
    "def BeyondDistance(raster,mindistance):\n",
    "    ResultBeyondDistance = ~ spreadmaxzone(raster, 0, 1, mindistance)\n",
    "    return ResultBeyondDistance\n",
    "\n",
    "# Changez en dossier de donnée si nécessaire\n",
    "os.chdir(\"./data\")\n",
    "\n",
    "# Lire toutes les cartes d'entrée\n",
    "Buildings = readmap(\"buildg.map\")\n",
    "Roads = readmap(\"roads.map\")\n",
    "GWLevel = readmap(\"gwlevel.map\")\n",
    "DTM = readmap(\"dtm.map\")\n",
    "\n",
    "# Fixer des seuils pour les conditions\n",
    "DistanceCondition1 = 150\n",
    "DistanceCondition2 = 300\n",
    "DepthCondition3 = 40\n",
    "\n",
    "# Condition 1: Puits se trouvant dans les X mètres des maisons et routes\n",
    "Houses = Buildings == 1\n",
    "Houses150m = WithinDistance(Houses,DistanceCondition1)\n",
    "\n",
    "IsRoad = Roads != 0\n",
    "Roads150m = WithinDistance(IsRoad,DistanceCondition1)\n",
    "\n",
    "# Condition 2: pas d'Industrie, Mine, ou décharge dans les X mètres à partir des puits\n",
    "Industry = lookupboolean(\"industry.tbl\", Buildings)\n",
    "IndustryMin300m = BeyondDistance(Industry,DistanceCondition2)\n",
    "\n",
    "# Condition 3: Puits de moins de X mètres de profondeur\n",
    "WellDepth = DTM - GWLevel\n",
    "NotDeep = WellDepth < DepthCondition3\n",
    "\n",
    "# Combinez les conditions\n",
    "AccessibleWells = Houses150m & Roads150m & IndustryMin300m & NotDeep\n",
    "\n",
    "# Ecrivez le résultat sur disque et visualisez\n",
    "report(AccessibleWells,\"accessiblewells.map\")\n",
    "plot(AccessibleWells,labels={0:\"Not accessible\",1:\"Accessible\"},title=\"Wells\",filename=None)"
   ]
  },
  {
   "cell_type": "markdown",
   "metadata": {},
   "source": [
    "Vous pouvez maintenant jouer avec les seuils des conditions et vérifier les résultats. \n",
    "Que se passe-t-il si nous modifions la distance aux maisons et aux routes à 250 m?"
   ]
  },
  {
   "cell_type": "markdown",
   "metadata": {},
   "source": [
    "<!--NAVIGATION-->\n",
    "< [Combinez les trois conditions](Combine.ipynb) | [Contenus](Contents.ipynb) >"
   ]
  }
 ],
 "metadata": {
  "kernelspec": {
   "display_name": "Python 3",
   "language": "python",
   "name": "python3"
  },
  "language_info": {
   "codemirror_mode": {
    "name": "ipython",
    "version": 3
   },
   "file_extension": ".py",
   "mimetype": "text/x-python",
   "name": "python",
   "nbconvert_exporter": "python",
   "pygments_lexer": "ipython3",
   "version": "3.8.8"
  }
 },
 "nbformat": 4,
 "nbformat_minor": 4
}
