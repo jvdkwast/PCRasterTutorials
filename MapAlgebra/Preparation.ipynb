{
 "cells": [
  {
   "cell_type": "markdown",
   "metadata": {},
   "source": [
    "<!--NAVIGATION-->\n",
    "< [Introduction](Introduction.ipynb) | [Contenus](Contents.ipynb) | [Condition 1](Condition_1.ipynb) >"
   ]
  },
  {
   "cell_type": "markdown",
   "metadata": {},
   "source": [
    "# 2. Préparation\n",
    "## 2.1 Introduction\n",
    "Pour cette tâche, vous disposez des couches raster suivantes: `buildg.tif`, `roads.tif`, `dtm.tif`, et `gwlevel.tif`. Vous pouvez trouver ces fichiers dans le dossier `data`.\n",
    "\n",
    "Pour travailler avec PCRaster, nous devons convertir les fichiers au format PCRaster. Vous pouvez le faire à partir de la ligne de commande à l’aide des commandes GDAL. Ici, nous allons faire la conversion avec la bibliothèque Python GDAL.\n",
    "\n",
    "## 2.2 Convertir des rasters avec GDAL\n",
    "\n",
    "Convertissons le fichier `buildg.tif`. \n",
    "D’abord nous importons `gdal` et `gdalconst` depuis la bibliothèque `osgeo`:"
   ]
  },
  {
   "cell_type": "code",
   "execution_count": null,
   "metadata": {},
   "outputs": [],
   "source": [
    "from osgeo import gdal, gdalconst"
   ]
  },
  {
   "cell_type": "markdown",
   "metadata": {},
   "source": [
    "Ensuite nous lisons le GeoTIFF depuis notre dossier `data`."
   ]
  },
  {
   "cell_type": "code",
   "execution_count": null,
   "metadata": {},
   "outputs": [],
   "source": [
    "src_ds = gdal.Open( \"data/buildg.tif\" )"
   ]
  },
  {
   "cell_type": "markdown",
   "metadata": {},
   "source": [
    "Ensuite, nous pouvons utiliser l’équivalent Python de [`gdal_translate`](https://gdal.org/programs/gdal_translate.html#gdal-translate): `Translate`. Nous devons utiliser le nom du format. See [GDAL Raster drivers (nom court)](https://gdal.org/drivers/raster/index.html) pour formats. Dans notre cas, le format de sortie est `PCRaster`.\n",
    "\n",
    "Nous devons également définir le type de données de la sortie.\n",
    "\n",
    "PCRaster utilise le typage de données dans la base de données: chaque carte a l’un des six types de données utilisés qui lui est attaché. Ces types de données vous aident, vous et PCRaster, à structurer les données. Voir le tableau ci-dessous.<br>\n",
    "\n",
    "| type de donné| description d’attributs | domaine | exemple |\n",
    "|:-------:|:-------:|:-------:|:-------:|\n",
    "| booléen | booléen | 0 (FALSE),<br> 1 (TRUE) | convenable/non convenable, visible/non visible |\n",
    "| nominal | classifié, non ordonné | toutes les valeurs | classes de sols |\n",
    "| ordinal | classifié, ordonné | toutes les valeurs | succession d’états, groupes de revenus |\n",
    "| scalaire | continu, linéaire | valeurs réelles | température, concentration |\n",
    "| directionnel | continu, directionnel | 0 à 360 dégrés | aspect |\n",
    "| ldd | direction vers la cellule voisine | codes de directions | réseaux de drainage |\n",
    "\n",
    "Dans les arguments de `Translate`, vous devez définir le `outputType` et `metadataOptions` en fonction du tableau ci-dessous. Notez que nous ne pouvons convertir que les rasters booléens, nominaux et scalaires. Les rasters ldd et directionnels sont créés dans PCRaster. Pour scalaire, nous pouvons utiliser Float 32 ou Float 64, en fonction de la précision souhaitée. \n",
    "\n",
    "| type de données | `outputType` | `metadataOptions` |\n",
    "|:-------:|:-------:|:-------:|\n",
    "| booléen | `gdalconst.GDT_Byte` | `'VS_BOOLEAN'`|\n",
    "| nominal | `gdalconst.GDT_Int32` | `'VS_NOMINAL'`|\n",
    "| scalaire | `gdalconst.GDT_Float32` | `'VS_SCALAR'`|\n",
    "| scalaire | `gdalconst.GDT_Float64` | `'VS_SCALAR'`|\n",
    "\n",
    "`buildg.tif` est un raster nominal. Il contient des classes. Ainsi le code que nous allons utiliser pour `Translate` est:"
   ]
  },
  {
   "cell_type": "code",
   "execution_count": null,
   "metadata": {},
   "outputs": [],
   "source": [
    "dst_ds = gdal.Translate('data/buildg.map', src_ds, format='PCRaster', \\\n",
    "                        outputType=gdalconst.GDT_Int32, metadataOptions='VS_NOMINAL')"
   ]
  },
  {
   "cell_type": "markdown",
   "metadata": {},
   "source": [
    "Et nous fermons correctement les jeux de données à vider sur le disque:"
   ]
  },
  {
   "cell_type": "code",
   "execution_count": null,
   "metadata": {},
   "outputs": [],
   "source": [
    "dst_ds = None\n",
    "src_ds = None"
   ]
  },
  {
   "cell_type": "markdown",
   "metadata": {},
   "source": [
    "Maintenant, vous pouvez trouver le fichier `buildg.map` sur votre disque dur. Vérifiez si c’est le cas si vous exécutez ce notebook localement.\n",
    "\n",
    "Appliquons le même code aux autres fichiers `dtm.tif`, `roads.tif` et `gwlevel.tif`. Dans ce cas, il est plus facile de l’écrire en tant que fonction. "
   ]
  },
  {
   "cell_type": "code",
   "execution_count": null,
   "metadata": {},
   "outputs": [],
   "source": [
    "#Importez gdal\n",
    "from osgeo import gdal\n",
    "\n",
    "def ConvertToPCRaster(src_filename,dst_filename,ot,VS):\n",
    "    #Ouvrir le jeu de données existant\n",
    "    src_ds = gdal.Open(src_filename)\n",
    "    \n",
    "    #Traduire GDAL\n",
    "    dst_ds = gdal.Translate(dst_filename, src_ds, format='PCRaster', outputType=ot, metadataOptions=VS)\n",
    "    \n",
    "    #Fermez correctement les jeux de données à vider sur le disque\n",
    "    dst_ds = None\n",
    "    src_ds = None\n",
    "    \n",
    "ConvertToPCRaster(\"data/buildg.tif\",\"data/buildg.map\",gdalconst.GDT_Int32,\"VS_NOMINAL\")\n",
    "ConvertToPCRaster(\"data/roads.tif\",\"data/roads.map\",gdalconst.GDT_Int32,\"VS_NOMINAL\")\n",
    "ConvertToPCRaster(\"data/gwlevel.tif\",\"data/gwlevel.map\",gdalconst.GDT_Float32,\"VS_SCALAR\")\n",
    "ConvertToPCRaster(\"data/dtm.tif\",\"data/dtm.map\",gdalconst.GDT_Float32,\"VS_SCALAR\")"
   ]
  },
  {
   "cell_type": "markdown",
   "metadata": {},
   "source": [
    "## 2.3 Inspection des données\n",
    "Pour l’algèbre cartographique, les propriétés de toutes les couches raster utilisées dans les calculs doivent être les mêmes.\n",
    "Voyons s’ils ont le même nombre de lignes et de colonnes, de coordonnées et de taille de pixels.\n",
    "\n",
    "Ouvrons un fichier PCRaster avec GDAL."
   ]
  },
  {
   "cell_type": "code",
   "execution_count": null,
   "metadata": {},
   "outputs": [],
   "source": [
    "RasterLayer = gdal.Open(\"data/dtm.map\")"
   ]
  },
  {
   "cell_type": "markdown",
   "metadata": {},
   "source": [
    "Pour obtenir le nombre de lignes et de colonnes, nous pouvons utiliser les fonctions GDAL `RasterXSize` et `RasterYSize`.\n",
    "`RasterLayer.GetDescription()`donne le chemin relatif de la couche."
   ]
  },
  {
   "cell_type": "code",
   "execution_count": null,
   "metadata": {},
   "outputs": [],
   "source": [
    "Path = RasterLayer.GetDescription()\n",
    "NrColumns = RasterLayer.RasterXSize\n",
    "NrRows = RasterLayer.RasterYSize\n",
    "print('{} has {} columns and {} rows'.format(Path,NrColumns,NrRows ))"
   ]
  },
  {
   "cell_type": "markdown",
   "metadata": {},
   "source": [
    "Pour connaître les coordonnées et la taille des pixels, nous pouvons utiliser `GetGeoTransform` de GDAL.\n",
    "Il renvoie un tuple avec les informations suivantes:\n",
    "`RasterLayer.GetGeoTransform[0]`: Coordonnée X en haut à gauche\n",
    "\n",
    "`RasterLayer.GetGeoTransform[1]`: Résolution des pixels Ouest-Est\n",
    "\n",
    "`RasterLayer.GetGeoTransform[2]`: Rotation, 0 pour \"nord vers le haut\"\n",
    "\n",
    "`RasterLayer.GetGeoTransform[3]`: Coordonnée Y en haut à gauche\n",
    "\n",
    "`RasterLayer.GetGeoTransform[4]`: Rotation, 0 pour \"nord vers le haut\"\n",
    "\n",
    "`RasterLayer.GetGeoTransform[5]`: Résolution des pixels Nord-Sud (négatif)"
   ]
  },
  {
   "cell_type": "code",
   "execution_count": null,
   "metadata": {},
   "outputs": [],
   "source": [
    "RasterLayer.GetGeoTransform()"
   ]
  },
  {
   "cell_type": "markdown",
   "metadata": {},
   "source": [
    "Présentons cela plus lisible."
   ]
  },
  {
   "cell_type": "code",
   "execution_count": null,
   "metadata": {},
   "outputs": [],
   "source": [
    "print(\"Origin = ({}, {})\".format(RasterLayer.GetGeoTransform()[0], RasterLayer.GetGeoTransform()[3]))\n",
    "print(\"Pixel Size = ({}, {})\".format(RasterLayer.GetGeoTransform()[1],RasterLayer.GetGeoTransform()[5]))"
   ]
  },
  {
   "cell_type": "markdown",
   "metadata": {},
   "source": [
    "Nous pouvons également utiliser GDAL pour obtenir les informations de projection. Le format PCRaster ne stocke pas les informations de projection, mais lorsque nous convertissons les rasters, il enregistre un fichier XML avec les informations de projection. La fonction GDAL est `GetProjection()`."
   ]
  },
  {
   "cell_type": "code",
   "execution_count": null,
   "metadata": {},
   "outputs": [],
   "source": [
    "RasterLayer.GetProjection()"
   ]
  },
  {
   "cell_type": "markdown",
   "metadata": {},
   "source": [
    "Cela nous donne une chaîne au format OGC WKT.\n",
    "Afin de rendre la projection et les unités lisibles, nous devons analyser la chaîne OGC WKT. Pour cela, nous utiliserons la bibliothèque [PyCRS](https://pypi.org/project/PyCRS/). \n",
    "\n",
    "S’il n’est pas encore installé si vous exécutez ce notebook localement, vous pouvez installer la bibliothèque en tapant ce qui suit dans l’invite Anaconda:\n",
    "\n",
    "`conda install -c conda-forge pycrs`\n",
    "\n",
    "Tout d’abord, nous importons la bibliothèque et enregistrons la chaîne OGC WKT dans une variable que nous analysons."
   ]
  },
  {
   "cell_type": "code",
   "execution_count": null,
   "metadata": {},
   "outputs": [],
   "source": [
    "import pycrs\n",
    "RasterLayerProjection = RasterLayer.GetProjection()\n",
    "\n",
    "# Analyser la chaîne OGC WKT \n",
    "crs = pycrs.parse.from_ogc_wkt(RasterLayerProjection)"
   ]
  },
  {
   "cell_type": "markdown",
   "metadata": {},
   "source": [
    "Nous pouvons vérifier s’il s’agit d’un système de coordonnées projeté:"
   ]
  },
  {
   "cell_type": "code",
   "execution_count": null,
   "metadata": {},
   "outputs": [],
   "source": [
    "isinstance(crs, pycrs.ProjCS)"
   ]
  },
  {
   "cell_type": "markdown",
   "metadata": {},
   "source": [
    "Le résultat est `True`, nous n’avons donc pas affaire à un système de coordonnées géographiques. Prenons le nom de la projection."
   ]
  },
  {
   "cell_type": "code",
   "execution_count": null,
   "metadata": {},
   "outputs": [],
   "source": [
    "ProjectionName = crs.name\n",
    "print(ProjectionName)"
   ]
  },
  {
   "cell_type": "markdown",
   "metadata": {},
   "source": [
    "Nous pouvons également obtenir les unités de la projection:"
   ]
  },
  {
   "cell_type": "code",
   "execution_count": null,
   "metadata": {},
   "outputs": [],
   "source": [
    "ProjectionUnits = crs.unit.unitname.ogc_wkt\n",
    "print(ProjectionUnits)"
   ]
  },
  {
   "cell_type": "markdown",
   "metadata": {},
   "source": [
    "Enfin, il serait utile d’obtenir quelques statistiques de la couche raster. Calculons la valeur minimale et maximale.\n",
    "Étant donné que les couches raster peuvent avoir plusieurs bandes, nous devons sélectionner la bande. Dans notre cas, nous avons une couche raster à bande unique, nous devons donc choisir la bande 1."
   ]
  },
  {
   "cell_type": "code",
   "execution_count": null,
   "metadata": {},
   "outputs": [],
   "source": [
    "RasterLayerBand = RasterLayer.GetRasterBand(1)"
   ]
  },
  {
   "cell_type": "markdown",
   "metadata": {},
   "source": [
    "Nous pouvons maintenant calculer les valeurs minimale et maximale de la bande en utilisant respectivement `GetMinimum` et `GetMaximum`."
   ]
  },
  {
   "cell_type": "code",
   "execution_count": null,
   "metadata": {},
   "outputs": [],
   "source": [
    "RasterLayerMinimum = RasterLayerBand.GetMinimum()\n",
    "RasterLayerMaximum = RasterLayerBand.GetMaximum()\n",
    "print(\"Minimum: \", RasterLayerMinimum)\n",
    "print(\"Maximum: \", RasterLayerMaximum)"
   ]
  },
  {
   "cell_type": "markdown",
   "metadata": {},
   "source": [
    "Écrivons ceci dans une fonction et obtenons les propriétés de couche raster pour toutes les couches raster afin que nous puissions comparer."
   ]
  },
  {
   "cell_type": "code",
   "execution_count": null,
   "metadata": {},
   "outputs": [],
   "source": [
    "from osgeo import gdal\n",
    "import pycrs\n",
    "\n",
    "def RasterLayerProperties(RasterLayer):\n",
    "    print(\"Raster file: {}\".format(RasterLayer.GetDescription()))\n",
    "    print(\"Driver: {}/{}\".format(RasterLayer.GetDriver().ShortName,\n",
    "                            RasterLayer.GetDriver().LongName))\n",
    "    print(\"Size is {} x {} x {}\".format(RasterLayer.RasterXSize,\n",
    "                                    RasterLayer.RasterYSize,\n",
    "                                    RasterLayer.RasterCount))\n",
    "    RasterLayerProjection = RasterLayer.GetProjection()\n",
    "    crs = pycrs.parse.from_ogc_wkt(RasterLayerProjection)\n",
    "    print(\"Projection:\",crs.name)\n",
    "    print(\"Map units:\",crs.unit.unitname.ogc_wkt)\n",
    "    geotransform = RasterLayer.GetGeoTransform()\n",
    "    if geotransform:\n",
    "        print(\"Origin = ({}, {})\".format(geotransform[0], geotransform[3]))\n",
    "        print(\"Pixel Size = ({} {}, {} {})\".format(geotransform[1],crs.unit.unitname.ogc_wkt, \\\n",
    "                                                   geotransform[5],crs.unit.unitname.ogc_wkt))\n",
    "    RasterLayerBand = RasterLayer.GetRasterBand(1)\n",
    "    print(\"Minimum: {}\".format(RasterLayerBand.GetMinimum()))\n",
    "    print(\"Maximum: {}\".format(RasterLayerBand.GetMaximum()))\n",
    "    \n",
    "    print()\n",
    "    RasterLayer = None\n",
    "    \n",
    "    \n",
    "DTMLayer = gdal.Open( \"data/dtm.map\" )\n",
    "RasterLayerProperties(DTMLayer)\n",
    "\n",
    "BuildgLayer = gdal.Open( \"data/buildg.map\" )\n",
    "RasterLayerProperties(BuildgLayer)\n",
    "\n",
    "RoadsLayer = gdal.Open( \"data/roads.map\" )\n",
    "RasterLayerProperties(RoadsLayer)\n",
    "\n",
    "GWLevelLayer = gdal.Open( \"data/gwlevel.map\" )\n",
    "RasterLayerProperties(GWLevelLayer)"
   ]
  },
  {
   "cell_type": "markdown",
   "metadata": {},
   "source": [
    "Sur la base de ces résultats, nous pouvons conclure que les couches raster ont les mêmes propriétés et conviennent à l’algèbre cartographique."
   ]
  },
  {
   "cell_type": "markdown",
   "metadata": {},
   "source": [
    "<!--NAVIGATION-->\n",
    "< [Introduction](Introduction.ipynb) | [Contenus](Contents.ipynb) | [Condition 1](Condition_1.ipynb) >"
   ]
  }
 ],
 "metadata": {
  "kernelspec": {
   "display_name": "Python 3",
   "language": "python",
   "name": "python3"
  },
  "language_info": {
   "codemirror_mode": {
    "name": "ipython",
    "version": 3
   },
   "file_extension": ".py",
   "mimetype": "text/x-python",
   "name": "python",
   "nbconvert_exporter": "python",
   "pygments_lexer": "ipython3",
   "version": "3.8.8"
  }
 },
 "nbformat": 4,
 "nbformat_minor": 4
}
