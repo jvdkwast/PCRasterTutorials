{
 "cells": [
  {
   "cell_type": "markdown",
   "metadata": {},
   "source": [
    "<!--NAVIGATION-->\n",
    "< [Condition 2](Condition_2.ipynb) | [Contenus](Contents.ipynb) | [Combinez les trois conditions](Combine.ipynb) >"
   ]
  },
  {
   "cell_type": "markdown",
   "metadata": {},
   "source": [
    "# 5.1 Condition 3: Puits de moins de 40 mètres de profondeur\n",
    "Pour la dernière condition, nous devons identifier les puits de moins de 40 m de profondeur.\n",
    "\n",
    "`gwlevel.map` donne l’élévation absolue du niveau des eaux souterraines dans le puits en mètres au-dessus du niveau de la mer. Afin de calculer la profondeur de l’eau souterraine, nous devons la soustraire de l’élévation de surface donnée dans le modèle numérique de terrain (`dtm.map`).\n",
    "\n",
    "Importons d’abord PCRaster, passons au dossier `data` et chargeons la fonction `showmap`."
   ]
  },
  {
   "cell_type": "code",
   "execution_count": null,
   "metadata": {},
   "outputs": [],
   "source": [
    "%matplotlib inline\n",
    "from pcraster import *\n",
    "from matplotlib.colors import ListedColormap\n",
    "import matplotlib.pyplot as plt\n",
    "import numpy as np\n",
    "\n",
    "def showmap(pcrastermap):\n",
    "    if pcrastermap.dataType() == VALUESCALE.Nominal:\n",
    "        MapArray = pcr2numpy(pcrastermap,-9999)\n",
    "        cmap = 'Set1'\n",
    "        plt.imshow(MapArray,cmap=cmap)\n",
    "        plt.colorbar()\n",
    "        \n",
    "    elif pcrastermap.dataType() == VALUESCALE.Boolean:\n",
    "        MapArray = pcr2numpy(pcrastermap,0)\n",
    "        cmap = ListedColormap([\"red\",\"green\"])\n",
    "        plt.imshow(MapArray,cmap=cmap,vmin=0)\n",
    "        plt.colorbar(ticks=[0,1])\n",
    "    else:\n",
    "        MapArray = pcr2numpy(pcrastermap,-9999)\n",
    "        MapArray[MapArray == -9999] = np.nan\n",
    "        cmap = 'cool'\n",
    "        plt.imshow(MapArray, cmap=cmap)\n",
    "        plt.colorbar()\n",
    "    \n",
    "    plt.axis('off')\n",
    "    plt.show()\n",
    "\n",
    "os.chdir(\"./data\")"
   ]
  },
  {
   "cell_type": "markdown",
   "metadata": {},
   "source": [
    "Et lisez `gwlevel.map` et `dtm.map` à partir du disque et utilisez les variables `GWLevel` et `DTM` respectivement. Essayez de le faire par vous-même dans la ligne suivante."
   ]
  },
  {
   "cell_type": "code",
   "execution_count": null,
   "metadata": {},
   "outputs": [],
   "source": []
  },
  {
   "cell_type": "markdown",
   "metadata": {},
   "source": [
    "Maintenant, nous pouvons calculer la profondeur du puits en soustrayant les rasters:"
   ]
  },
  {
   "cell_type": "code",
   "execution_count": null,
   "metadata": {},
   "outputs": [],
   "source": [
    "WellDepth = DTM - GWLevel"
   ]
  },
  {
   "cell_type": "markdown",
   "metadata": {},
   "source": [
    "Visualisons le résultat. Est-ce booléen, nominal ou scalaire ?"
   ]
  },
  {
   "cell_type": "code",
   "execution_count": null,
   "metadata": {},
   "outputs": [],
   "source": []
  },
  {
   "cell_type": "markdown",
   "metadata": {},
   "source": [
    "Nous pouvons calculer un raster booléen où les pixels d’une profondeur de puits < 40 sont Vrai et > = 40 sont Faux. Tapez le code dans le champ suivant et écrivez la sortie dans la variable `NotDeep`."
   ]
  },
  {
   "cell_type": "code",
   "execution_count": null,
   "metadata": {},
   "outputs": [],
   "source": []
  },
  {
   "cell_type": "markdown",
   "metadata": {},
   "source": [
    "Visualisez et enregistrez le résultat dans `notdeep.map`."
   ]
  },
  {
   "cell_type": "code",
   "execution_count": null,
   "metadata": {
    "scrolled": true
   },
   "outputs": [],
   "source": []
  },
  {
   "cell_type": "code",
   "execution_count": null,
   "metadata": {},
   "outputs": [],
   "source": []
  },
  {
   "cell_type": "markdown",
   "metadata": {},
   "source": [
    "<!--NAVIGATION-->\n",
    "< [Condition 2](Condition_2.ipynb) | [Contenus](Contents.ipynb) | [Combinez les trois conditions](Combine.ipynb) >"
   ]
  }
 ],
 "metadata": {
  "kernelspec": {
   "display_name": "Python 3",
   "language": "python",
   "name": "python3"
  },
  "language_info": {
   "codemirror_mode": {
    "name": "ipython",
    "version": 3
   },
   "file_extension": ".py",
   "mimetype": "text/x-python",
   "name": "python",
   "nbconvert_exporter": "python",
   "pygments_lexer": "ipython3",
   "version": "3.8.8"
  }
 },
 "nbformat": 4,
 "nbformat_minor": 4
}
