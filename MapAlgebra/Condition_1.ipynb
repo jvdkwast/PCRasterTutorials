{
 "cells": [
  {
   "cell_type": "markdown",
   "metadata": {},
   "source": [
    "<!--NAVIGATION-->\n",
    "< [Préparation](Preparation.ipynb) | [Contenus](Contents.ipynb) | [Condition 2](Condition_2.ipynb) >"
   ]
  },
  {
   "cell_type": "markdown",
   "metadata": {},
   "source": [
    "# 3. Condition 1: Puits dans les 150 mètres des maisons ou routes\n",
    "## 3.1 Introduction\n",
    "\n",
    "Maintenant que nous avons converti les fichiers GeoTIFF au format PCRaster et que nous avons vérifié leurs propriétés, il est temps de procéder à l’analyse des trois conditions:\n",
    "\n",
    "* Condition 1: Puits à moins de 150 mètres des maisons ou des routes \n",
    "* Condition 2: Pas d’industrie, de mine ou de décharge à moins de 300 mètres des puits \n",
    "* Condition 3: Puits de moins de 40 mètres de profondeur\n",
    "\n",
    "Pour la condition 1, nous examinerons d’abord les maisons et nous procéderons comme suit:\n",
    "\n",
    "1. Créez un calque booléen avec ‘True’ pour les maisons et ‘False’ pour les autres bâtiments \n",
    "2. Créer des zones de 150 mètres autour des maisons\n",
    "\n",
    "Ensuite, nous répéterons les étapes pour les routes.\n",
    "\n",
    "## 3.2 Créer un calque booléen avec True pour les maisons et False pour les autres bâtiments\n",
    "Nous tapons généralement les commandes dans l’invite Python. Dans ce Jupyter Notebook, nous simulons cela. C’est-à-dire que tout ce que vous tapez dans les champs est égal à une commande dans l’invite Python.\n",
    "\n",
    "Chargeons d’abord le module `pcraster`."
   ]
  },
  {
   "cell_type": "code",
   "execution_count": null,
   "metadata": {},
   "outputs": [],
   "source": [
    "from pcraster import *"
   ]
  },
  {
   "cell_type": "markdown",
   "metadata": {},
   "source": [
    "N’oubliez pas que nos données sont stockées dans le dossier `data`, tandis que notre Python s’exécute dans le dossier parent. Pour plus de commodité, il est utile de passer au dossier Data afin que tous nos fichiers d’entrée et de sortie y soient lus et écrits respectivement.\n",
    "\n",
    "Avec la bibliothèque `os`, nous pouvons utiliser la ligne de commande commande."
   ]
  },
  {
   "cell_type": "code",
   "execution_count": null,
   "metadata": {},
   "outputs": [],
   "source": [
    "import os"
   ]
  },
  {
   "cell_type": "markdown",
   "metadata": {},
   "source": [
    "Vérifions le répertoire de travail actuel."
   ]
  },
  {
   "cell_type": "code",
   "execution_count": null,
   "metadata": {},
   "outputs": [],
   "source": [
    "print(os.getcwd())"
   ]
  },
  {
   "cell_type": "markdown",
   "metadata": {},
   "source": [
    "Nous pouvons utiliser un équivalent de la commande `cd`  pour changer le répertoire: `os.chdir(stringWithPath)`, où `stringWithPath` définit le chemin."
   ]
  },
  {
   "cell_type": "code",
   "execution_count": null,
   "metadata": {},
   "outputs": [],
   "source": [
    "os.chdir(\"./data\")"
   ]
  },
  {
   "cell_type": "markdown",
   "metadata": {},
   "source": [
    "Vérifiez où nous en sommes maintenant. Assurez-vous que nous sommes dans le dossier `data`  de ce tutoriel."
   ]
  },
  {
   "cell_type": "code",
   "execution_count": null,
   "metadata": {},
   "outputs": [],
   "source": [
    "print(os.getcwd())"
   ]
  },
  {
   "cell_type": "markdown",
   "metadata": {},
   "source": [
    "Nous sommes maintenant prêts à lire `buildg.map` à partir du disque et à l’utiliser pour l’algèbre cartographique avec PCRaster. \n",
    "Nous pouvons lire des cartes en utilisant `readmap(stringWithPathToFile)`."
   ]
  },
  {
   "cell_type": "code",
   "execution_count": null,
   "metadata": {},
   "outputs": [],
   "source": [
    "Buildings = readmap(\"buildg.map\")"
   ]
  },
  {
   "cell_type": "markdown",
   "metadata": {},
   "source": [
    "Maintenant, nous avons lu `buildg.map` à partir du disque et pouvons-nous y référer avec la variable `Buildings`. \n",
    "Il existe différentes façons de visualiser la carte:  \n",
    "* En Python, nous pouvons utiliser l’opérateur `aguila`: `aguila(Buildings)` \n",
    "* À l’invite de commande, nous pouvons utiliser la commande 'Aguila' avec le nom de fichier: `aguila buildg.map`  \n",
    "* Utilisez des outils de traçage Python qui fonctionnent également avec les notebooks Jupyter sur Binder, etc.  \n",
    "\n",
    "Nous allons maintenant utiliser la dernière option de ce notebook Jupyter. Mais vous pouvez également essayer les autres si vous exécutez ce notebook localement."
   ]
  },
  {
   "cell_type": "markdown",
   "metadata": {},
   "source": [
    "Nous pouvons utiliser l’opérateur `plot` pour visualiser les cartes PCRaster. Il a la syntaxe suivante:\n",
    "\n",
    "```Python\n",
    "plot(raster, labels=None, title=None, filename=None)\n",
    "```\n",
    "\n",
    "Les entrées sont:\n",
    "\n",
    "`raster`: Carte raster avec le type Boolean, Nominal, Scalar ou Ldd.\n",
    "\n",
    "`labels`: Optionnel. Dictionnaire des étiquettes qui doivent être utilisées pour la légende, les valeurs de cellule seront utilisées autrement.\n",
    "\n",
    "`title`: Optionnel. Titre de la légende sous forme de chaîne, essaie d’identifier le nom de la variable autrement.\n",
    "\n",
    "`filename`: Optionnel. Si le tracé fourni sera écrit sur le disque."
   ]
  },
  {
   "cell_type": "markdown",
   "metadata": {},
   "source": [
    "Les données raster n’ont pas de table attributaire. Les valeurs du raster `Buildings`  représentent les classes suivantes :"
   ]
  },
  {
   "cell_type": "markdown",
   "metadata": {},
   "source": [
    "| Value | Class |\n",
    "|:-------:|:-------:|\n",
    "| 0 | None |\n",
    "| 1 | House |\n",
    "| 2 | Public building |\n",
    "| 3 | Landfill |\n",
    "| 4 | Industry |\n",
    "| 5 | Mine |"
   ]
  },
  {
   "cell_type": "markdown",
   "metadata": {},
   "source": [
    "Nous pouvons enregistrer la légende dans un dictionnaire Python:"
   ]
  },
  {
   "cell_type": "code",
   "execution_count": null,
   "metadata": {},
   "outputs": [],
   "source": [
    "Legend = {0:\"None\",1:\"House\",2:\"Public building\",3:\"Landfill\",4:\"Industry\",5:\"Mine\"}"
   ]
  },
  {
   "cell_type": "markdown",
   "metadata": {},
   "source": [
    "Nous pouvons maintenant mettre en graphique la couche Bâtiments en exécutant ce code :"
   ]
  },
  {
   "cell_type": "code",
   "execution_count": null,
   "metadata": {},
   "outputs": [],
   "source": [
    "plot(Buildings, labels=Legend, title=\"Buildings\", filename=None)"
   ]
  },
  {
   "cell_type": "markdown",
   "metadata": {},
   "source": [
    "Nous devons d’abord créer une couche booléenne avec ‘True’ pour les maisons et ‘False’ pour les autres bâtiments."
   ]
  },
  {
   "cell_type": "code",
   "execution_count": null,
   "metadata": {},
   "outputs": [],
   "source": [
    "Houses = Buildings == 1"
   ]
  },
  {
   "cell_type": "markdown",
   "metadata": {},
   "source": [
    "Ici nous avons utilisé l'opérateur `==`. Cela crée une carte booléenne avec la valeur 1 pour toutes les cellules qui sont égales à 1 et 0 pour toutes les autres cellules. Vous trouverez ici plus d’informations sur [operateurs de PCRaster](https://pcraster.geo.uu.nl/pcraster/4.3.0/documentation/python/quickstart.html#operators).\n",
    "Visualisons le résultat avec l’opérateur `plot`:"
   ]
  },
  {
   "cell_type": "code",
   "execution_count": null,
   "metadata": {},
   "outputs": [],
   "source": []
  },
  {
   "cell_type": "markdown",
   "metadata": {},
   "source": [
    "## 3.3 Créer des zones de 150 mètres autour des maisons\n",
    "L’étape suivante consiste à créer des zones de 150 m autour des maisons.\n",
    "\n",
    "Vous pouvez utiliser la [fonction `spreadmaxzone`](https://pcraster.geo.uu.nl/pcraster/4.3.0/documentation/pcraster_manual/sphinx/op_spreadmaxzone.html).\n",
    "\n",
    "La syntaxe est `Result = spreadmaxzone(points, initialfrictiondist, friction, max_distance)`\n",
    "Dans notre cas `points` sont les maisons `Houses`, `initialfrictiondist = 0`, `friction = 1` and `max_distance = 150`. `intialfrictiondistance = 0` signifie qu’il n’y a pas de friction à l’emplacement des maisons et avec `friction = 1` nous calculons la distance à partir des autres pixels de manière égale sans poids différents."
   ]
  },
  {
   "cell_type": "code",
   "execution_count": null,
   "metadata": {},
   "outputs": [],
   "source": [
    "houses150m = spreadmaxzone(Houses, 0, 1, 150)"
   ]
  },
  {
   "cell_type": "markdown",
   "metadata": {},
   "source": [
    "Visualisez le résultat."
   ]
  },
  {
   "cell_type": "code",
   "execution_count": null,
   "metadata": {},
   "outputs": [],
   "source": []
  },
  {
   "cell_type": "markdown",
   "metadata": {},
   "source": [
    "Nous pouvons enregistrer ce résultat sur le disque à l’aide de la fonction `rapport`. Le premier argument est le nom de la variable de la carte que vous souhaitez écrire sur le disque. Le deuxième argument est la chaîne du nom du fichier. "
   ]
  },
  {
   "cell_type": "code",
   "execution_count": null,
   "metadata": {},
   "outputs": [],
   "source": [
    "report(houses150m,\"houses150m.map\")"
   ]
  },
  {
   "cell_type": "markdown",
   "metadata": {},
   "source": [
    "Si vous exécutez ce notebook localement, vérifiez que `houses150m.map` est stocké dans le dossier `data` et visualisez le résultat à l’aide d’aguila à partir de l’invite de commande :\n",
    "```\n",
    "aguila houses150.map\n",
    "```"
   ]
  },
  {
   "cell_type": "markdown",
   "metadata": {},
   "source": [
    "## 3.4 Créer des zones de 150 mètres autour des routes\n",
    "De la même manière, nous pouvons maintenant calculer la zone tampon de 150 m autour des routes.\n",
    "\n",
    "Les valeurs dans `roads.map` représentent les classes suivantes: \n",
    "\n",
    "| Value | Class |\n",
    "|:-------:|:-------:|\n",
    "| 0 | No road |\n",
    "| 1 | Dirt road |\n",
    "| 2 | Tarmac |\n",
    "\n",
    "Faites les mêmes étapes que pour `houses150m` et enregistrez le résultat dans `roads150m.map`."
   ]
  },
  {
   "cell_type": "code",
   "execution_count": null,
   "metadata": {},
   "outputs": [],
   "source": []
  },
  {
   "cell_type": "code",
   "execution_count": null,
   "metadata": {},
   "outputs": [],
   "source": []
  },
  {
   "cell_type": "code",
   "execution_count": null,
   "metadata": {},
   "outputs": [],
   "source": []
  },
  {
   "cell_type": "code",
   "execution_count": null,
   "metadata": {},
   "outputs": [],
   "source": []
  },
  {
   "cell_type": "markdown",
   "metadata": {},
   "source": [
    "Visualisez le résultat."
   ]
  },
  {
   "cell_type": "code",
   "execution_count": null,
   "metadata": {},
   "outputs": [],
   "source": []
  },
  {
   "cell_type": "markdown",
   "metadata": {},
   "source": [
    "Enregistrez le résultat sur le disque avec le nom `roads150m.map`."
   ]
  },
  {
   "cell_type": "code",
   "execution_count": null,
   "metadata": {},
   "outputs": [],
   "source": []
  },
  {
   "cell_type": "markdown",
   "metadata": {},
   "source": [
    "<!--NAVIGATION-->\n",
    "< [Préparation](Preparation.ipynb) | [Contenus](Contents.ipynb) | [Condition 2](Condition_2.ipynb) >"
   ]
  }
 ],
 "metadata": {
  "kernelspec": {
   "display_name": "Python 3",
   "language": "python",
   "name": "python3"
  },
  "language_info": {
   "codemirror_mode": {
    "name": "ipython",
    "version": 3
   },
   "file_extension": ".py",
   "mimetype": "text/x-python",
   "name": "python",
   "nbconvert_exporter": "python",
   "pygments_lexer": "ipython3",
   "version": "3.8.8"
  }
 },
 "nbformat": 4,
 "nbformat_minor": 4
}
