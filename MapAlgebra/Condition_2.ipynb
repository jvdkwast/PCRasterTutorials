{
 "cells": [
  {
   "cell_type": "markdown",
   "metadata": {},
   "source": [
    "<!--NAVIGATION-->\n",
    "< [Condition 1](Condition_1.ipynb) | [Contenus](Contents.ipynb) | [Condition 3](Condition_3.ipynb) >"
   ]
  },
  {
   "cell_type": "markdown",
   "metadata": {},
   "source": [
    "# 4. Condition 2: Pas d’industrie, de mine ou de décharge à moins de 300 mètres des puits\n",
    "## 4.1 Introduction\n",
    "Pour la deuxième condition, nous devons d’abord reclasser la couche `buildg` de manière à ce que le résultat soit une carte booléenne avec True (1) pour l’industrie, la mine et la décharge et False (0) pour les autres classes. Ensuite, nous devons calculer la distance aux pixels vrais (True) et enfin calculer les pixels qui sont à plus de 300 m de l’industrie, de la mine et de la décharge.\n",
    "\n",
    "## 4.2 Créer un raster booléen avec True pour l’industrie, la mine et la mise en décharge, et False pour d’autres bâtiments\n",
    "\n",
    "Reclassons d’abord `buildg.map`. Pour les reclassifications, nous utilisons ce que l’on appelle des *tables de choix*.  Ces tables de choix peuvent être utilisées par PCRaster avec les [opérations de `choix...`](https://pcraster.geo.uu.nl/pcraster/4.3.0/documentation/pcraster_manual/sphinx/op_lookup.html). Pour ces opérations, vous devez connaître le type de données de la sortie et utiliser l’une des opérations suivantes : \n",
    "\n",
    "\n",
    "| type de donnée de sortie | opération |\n",
    "|:-------:|:-------:|\n",
    "| boolean | `lookupboolean` |\n",
    "| nominal | `lookupnominal` |\n",
    "| ordinal | `lookupordinal` |\n",
    "| scalar | `lookupscalar` |\n",
    "| directional | `lookupdirectional` |\n",
    "| ldd | `lookupldd` |\n",
    "\n",
    "La syntaxe génerale est:\n",
    "`Result = lookup<datatype>(lookuptable,input map)`\n",
    "\n",
    "Dans notre cas, nous devons reclasser `buildg.map` en un résultat booléen, de sorte que l’opération soit `lookupboolean`. \n",
    "\n",
    "Dans ce cas, le tableau doit être un fichier texte avec le contenu suivant:\n",
    "\n",
    "`0 0\n",
    " 1 0\n",
    " 2 0\n",
    " 3 1\n",
    " 4 1\n",
    " 5 1`\n",
    "\n",
    "Vous pouvez préparer ce fichier texte dans le notebook ou un autre éditeur de texte brut. Vous pouvez lui donner n’importe quelle extension, mais ici nous allons utiliser `.tbl` pour qu’il soit clair qu’il s’agit d’un tableau. Ici, nous allons utiliser celui fourni dans le dossier `data`: `industry.tbl`.\n",
    "\n",
    "Nous pouvons également reclasser des plages de valeurs et utiliser plusieurs cartes d’entrée. Nous y reviendrons plus tard.\n",
    "\n",
    "Maintenant, nous pouvons utiliser l’opération `lookupboolean`. \n",
    "\n",
    "Pour chaque nouvelle page de notebook Jupyter, nous devons d’abord importer les bibliothèques nécessaires. Ici, nous importons PCRaster."
   ]
  },
  {
   "cell_type": "code",
   "execution_count": null,
   "metadata": {},
   "outputs": [],
   "source": [
    "from pcraster import *"
   ]
  },
  {
   "cell_type": "markdown",
   "metadata": {},
   "source": [
    "Maintenant, nous définissons le dossier de données."
   ]
  },
  {
   "cell_type": "code",
   "execution_count": null,
   "metadata": {},
   "outputs": [],
   "source": [
    "os.chdir(\"./data\")"
   ]
  },
  {
   "cell_type": "markdown",
   "metadata": {},
   "source": [
    "Maintenant, nous devons lire `buildg.map` à partir du disque. Dans chaque page de notebook Jupyter, nous devons redéfinir les variables."
   ]
  },
  {
   "cell_type": "code",
   "execution_count": null,
   "metadata": {},
   "outputs": [],
   "source": [
    "Buildings = readmap(\"buildg.map\")"
   ]
  },
  {
   "cell_type": "markdown",
   "metadata": {},
   "source": [
    "Appliquons maintenant la table de choix."
   ]
  },
  {
   "cell_type": "code",
   "execution_count": null,
   "metadata": {},
   "outputs": [],
   "source": [
    "Industry = lookupboolean(\"industry.tbl\", Buildings)"
   ]
  },
  {
   "cell_type": "markdown",
   "metadata": {},
   "source": [
    "Visualisez le résultat."
   ]
  },
  {
   "cell_type": "code",
   "execution_count": null,
   "metadata": {},
   "outputs": [],
   "source": []
  },
  {
   "cell_type": "markdown",
   "metadata": {},
   "source": [
    "## 4.3 Créer des zones de 300 mètres autour de l’industrie, de la mine et des sites de décharge\n",
    "Maintenant que nous avons les pixels de l’industrie, nous pouvons créer une carte booléenne avec ‘True’ pour les pixels qui sont à au moins 300 m de l’industrie et False pour les pixels qui sont plus proches de 300 m de l’industrie.\n",
    "\n",
    "Auparavant, nous utilisions l’opération `spreadmaxzone`. Il n’y a cependant pas d’opération `spreadminzone`. \n",
    "Il existe différentes façons de résoudre ce problème: \n",
    "1. Nous pouvons utiliser `spreadminzone`  et inverser le résultat en utilisant l’opérateur NOT `~`.\n",
    "2. Nous pouvons calculer toutes les distances avec l’opération `spread` et utiliser l’opérateur `>=` pour créer la carte booléenne requise.\n",
    "3. Nous pouvons utiliser une table de choix reclassant les plages. \n",
    "\n",
    "La méthode 1 est la plus rapide. Essayons d’abord cela."
   ]
  },
  {
   "cell_type": "code",
   "execution_count": null,
   "metadata": {},
   "outputs": [],
   "source": [
    "IndustryMax300m = spreadmaxzone(Industry, 0, 1, 300)\n",
    "IndustryMin300m = ~ IndustryMax300m"
   ]
  },
  {
   "cell_type": "markdown",
   "metadata": {},
   "source": [
    "Visualisez le résultat."
   ]
  },
  {
   "cell_type": "code",
   "execution_count": null,
   "metadata": {},
   "outputs": [],
   "source": []
  },
  {
   "cell_type": "markdown",
   "metadata": {},
   "source": [
    "Regardons aussi les autres méthodes et voyons si elles donnent le même résultat.\n",
    "\n",
    "Calculer les distances jusqu’à l’industrie:"
   ]
  },
  {
   "cell_type": "code",
   "execution_count": null,
   "metadata": {},
   "outputs": [],
   "source": [
    "IndustryDistance = spread(Industry,0,1)"
   ]
  },
  {
   "cell_type": "markdown",
   "metadata": {},
   "source": [
    "Créez la condition booléenne:"
   ]
  },
  {
   "cell_type": "code",
   "execution_count": null,
   "metadata": {},
   "outputs": [],
   "source": [
    "IndustryMin300m_2 = IndustryDistance >= 300"
   ]
  },
  {
   "cell_type": "markdown",
   "metadata": {},
   "source": [
    "Visualisez le résultat."
   ]
  },
  {
   "cell_type": "code",
   "execution_count": null,
   "metadata": {},
   "outputs": [],
   "source": []
  },
  {
   "cell_type": "markdown",
   "metadata": {},
   "source": [
    "Pour la troisième méthode, nous allons utiliser une table de choix avec des plages. Dans le fichier texte, la première colonne contient les plages et la deuxième colonne les valeurs de sortie. `[` et `]` sont utilisés pour inclure la valeur dans la plage et `<` et `>` sont utilisés pour exclure la valeur de la plage.\n",
    "\n",
    "Alors ici, notre fichier texte ressemble à:\n",
    "\n",
    "`<,300> 0\n",
    "[300,> 1`\n",
    "\n",
    "Où la première ligne signifie: toutes les valeurs < 300 obtiennent un zéro booléen. La deuxième ligne signifie que toutes les valeurs > = 300 obtiennent booléenne 1.\n",
    "\n",
    "Nous allons reclasser `IndustryDistance` en utilisant la table de choix `industry300m.tbl` qui se trouve dans le dossier `data`. Écrivez le code ci-dessous et écrivez le résultat dans `IndustryMin300m_3`:"
   ]
  },
  {
   "cell_type": "code",
   "execution_count": null,
   "metadata": {},
   "outputs": [],
   "source": []
  },
  {
   "cell_type": "markdown",
   "metadata": {},
   "source": [
    "Visualisez le résultat."
   ]
  },
  {
   "cell_type": "code",
   "execution_count": null,
   "metadata": {},
   "outputs": [],
   "source": []
  },
  {
   "cell_type": "markdown",
   "metadata": {},
   "source": [
    "Vous pouvez voir que les résultats sont les mêmes. \n",
    "Dans les SIG, vous obtenez souvent le même résultat de différentes manières. Vous devez trouver l’itinéraire le plus efficace vers le résultat souhaité."
   ]
  },
  {
   "cell_type": "markdown",
   "metadata": {},
   "source": [
    "Sauvegarder le résultat comme `ind300m.map`."
   ]
  },
  {
   "cell_type": "code",
   "execution_count": null,
   "metadata": {},
   "outputs": [],
   "source": []
  },
  {
   "cell_type": "markdown",
   "metadata": {},
   "source": [
    "<!--NAVIGATION-->\n",
    "< [Condition 1](Condition_1.ipynb) | [Contenus](Contents.ipynb) | [Condition 3](Condition_3.ipynb) >"
   ]
  }
 ],
 "metadata": {
  "kernelspec": {
   "display_name": "Python 3",
   "language": "python",
   "name": "python3"
  },
  "language_info": {
   "codemirror_mode": {
    "name": "ipython",
    "version": 3
   },
   "file_extension": ".py",
   "mimetype": "text/x-python",
   "name": "python",
   "nbconvert_exporter": "python",
   "pygments_lexer": "ipython3",
   "version": "3.8.8"
  }
 },
 "nbformat": 4,
 "nbformat_minor": 4
}
