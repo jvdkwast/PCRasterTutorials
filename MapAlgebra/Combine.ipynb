{
 "cells": [
  {
   "cell_type": "markdown",
   "metadata": {},
   "source": [
    "<!--NAVIGATION-->\n",
    "< [Condition 3](Condition_3.ipynb) | [Contenus](Contents.ipynb) | [Quel est l’avantage de l’algèbre cartographique par scriptage?](Conclusion_map_algebra.ipynb) >"
   ]
  },
  {
   "cell_type": "markdown",
   "metadata": {},
   "source": [
    "# 6. Combinez les Trois Conditions\n",
    "Après avoir calculé les cartes booléennes pour les trois conditions, nous devons les combiner pour arriver au résultat final.\n",
    "\n",
    "Importons d’abord la bibliothèque PCRaster et passons au dossier `data`."
   ]
  },
  {
   "cell_type": "code",
   "execution_count": null,
   "metadata": {},
   "outputs": [],
   "source": [
    "from pcraster import *\n",
    "os.chdir(\"./data\")"
   ]
  },
  {
   "cell_type": "markdown",
   "metadata": {},
   "source": [
    "Lisez les résultats booléens des trois conditions à partir du disque."
   ]
  },
  {
   "cell_type": "code",
   "execution_count": null,
   "metadata": {},
   "outputs": [],
   "source": [
    "Houses150m = readmap(\"houses150m.map\")\n",
    "Roads150m = readmap(\"roads150m.map\")\n",
    "Industry300m = readmap(\"ind300m.map\")\n",
    "NotDeep = readmap(\"notdeep.map\")"
   ]
  },
  {
   "cell_type": "markdown",
   "metadata": {},
   "source": [
    "Visualisez toutes les quatre cartes booléennes."
   ]
  },
  {
   "cell_type": "code",
   "execution_count": null,
   "metadata": {},
   "outputs": [],
   "source": []
  },
  {
   "cell_type": "markdown",
   "metadata": {},
   "source": [
    "Le résultat devrait être une carte booléenne où les puits accessibles sont situés dans des cellules où toutes les conditions sont vraies (True). Les autres cellules doivent avoir la valeur fausse (False). Quel opérateur booléen devrions-nous utiliser?\n",
    "\n",
    "A. OR\n",
    "\n",
    "B. NOT\n",
    "\n",
    "C. AND\n",
    "\n",
    "D. XOR\n",
    "\n",
    "Tapez le code dans le champ en dessous. Utilisez [l'operateur](https://pcraster.geo.uu.nl/pcraster/4.3.0/documentation/python/quickstart.html#operators) correct. Ecrivez les résultats comme variable `AccessibleWells`."
   ]
  },
  {
   "cell_type": "code",
   "execution_count": null,
   "metadata": {},
   "outputs": [],
   "source": []
  },
  {
   "cell_type": "markdown",
   "metadata": {},
   "source": [
    "Visualisez le résultat et le sauvegardez sur disque comme `accessiblewells.map`."
   ]
  },
  {
   "cell_type": "code",
   "execution_count": null,
   "metadata": {},
   "outputs": [],
   "source": []
  },
  {
   "cell_type": "code",
   "execution_count": null,
   "metadata": {},
   "outputs": [],
   "source": []
  },
  {
   "cell_type": "markdown",
   "metadata": {},
   "source": [
    "Vous pouvez maintenant ouvrir la carte des résultats dans QGIS, par exemple, pour la styliser davantage. Étant donné que le format PCRaster est pris en charge par GDAL, vous pouvez l’ouvrir dans QGIS comme n’importe quelle autre couche raster."
   ]
  },
  {
   "cell_type": "markdown",
   "metadata": {},
   "source": [
    "<!--NAVIGATION-->\n",
    "< [Condition 3](Condition_3.ipynb) | [Contenus](Contents.ipynb) | [Quel est l’avantage de l’algèbre cartographique par scriptage?](Conclusion_map_algebra.ipynb) >"
   ]
  }
 ],
 "metadata": {
  "kernelspec": {
   "display_name": "Python 3",
   "language": "python",
   "name": "python3"
  },
  "language_info": {
   "codemirror_mode": {
    "name": "ipython",
    "version": 3
   },
   "file_extension": ".py",
   "mimetype": "text/x-python",
   "name": "python",
   "nbconvert_exporter": "python",
   "pygments_lexer": "ipython3",
   "version": "3.8.8"
  }
 },
 "nbformat": 4,
 "nbformat_minor": 4
}
