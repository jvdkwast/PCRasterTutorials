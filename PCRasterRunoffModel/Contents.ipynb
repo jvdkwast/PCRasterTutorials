{
 "cells": [
  {
   "cell_type": "markdown",
   "metadata": {},
   "source": [
    "< [Introduction](Introduction.ipynb) >"
   ]
  },
  {
   "cell_type": "markdown",
   "metadata": {},
   "source": [
    "# Tutoriel du Cadre de modélisation dynamique de PCRaster\n",
    "\n",
    "\n",
    "# Plan\n",
    "\n",
    "1. [Introduction](Introduction.ipynb)\n",
    "2. [Cadre de modélisation dynamique de PCRaster](PCRasterDynamicModellingFramework.ipynb)\n",
    "3. [Préparation de la section initiale du modèle](STREAM_Initial.ipynb)\n",
    "4. [Construction du modèle dynamique](STREAM_Dynamic.ipynb)"
   ]
  },
  {
   "cell_type": "markdown",
   "metadata": {},
   "source": [
    "< [Introduction](Introduction.ipynb) >"
   ]
  }
 ],
 "metadata": {
  "kernelspec": {
   "display_name": "Python 3",
   "language": "python",
   "name": "python3"
  },
  "language_info": {
   "codemirror_mode": {
    "name": "ipython",
    "version": 3
   },
   "file_extension": ".py",
   "mimetype": "text/x-python",
   "name": "python",
   "nbconvert_exporter": "python",
   "pygments_lexer": "ipython3",
   "version": "3.7.9"
  }
 },
 "nbformat": 4,
 "nbformat_minor": 4
}
