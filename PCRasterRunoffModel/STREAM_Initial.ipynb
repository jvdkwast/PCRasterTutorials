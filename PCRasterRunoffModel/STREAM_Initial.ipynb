{
 "cells": [
  {
   "cell_type": "markdown",
   "metadata": {},
   "source": [
    "< [The PCRaster Dynamic Modelling Framework](PCRasterDynamicModellingFramework.ipynb) | [Contents](Contents.ipynb) | [Building the dynamic model](STREAM_Dynamic.ipynb) >"
   ]
  },
  {
   "cell_type": "markdown",
   "metadata": {},
   "source": [
    "# 3. Preparation de la section `initiale` du modèle\n",
    "Un modèle dynamique avec le cadre Python du PCRaster a une section \"initiale\" et une \"dynamique\". Comme indiqué précédemment, la section initiale contient du code qui ne doit être exécuté qu'une seule fois pour initialiser le modèle. Il ne doit pas être itéré dans le temps.\n",
    "## 3.1 Lire des cartes statiques\n",
    "Nous devons initialiser le modèle STREAM en lisant les cartes statiques suivantes dans la section « initial » :\n",
    "`` `Python\n",
    "landuse.map # carte d'occupation des sols\n",
    "sol.map # carte des sols\n",
    "metstat.map # carte avec les stations météorologiques\n",
    "dem.map # Modèle numérique d'élévation\n",
    "mask.map # cloner la carte\n",
    "`` `\n",
    "\n",
    "Ajoutez les lignes à la section \"initiale\" du script pour lire les cartes statiques et exécutez le script pour vérifier s'il n'y a pas d'erreurs. Notez que nous utilisons `landuse.map` et `sol.map` uniquement dans la section `initial` pour créer des cartes avec des tableaux de correspondance. Nous n'utilisons pas non plus `dem.map` dans la section` dynamic`. Toutes les autres cartes sont utilisées à la fois dans les sections `initial`et`dynamic`. Réfléchissez donc à la façon de créer des variables locales et globales."
   ]
  },
  {
   "cell_type": "code",
   "execution_count": null,
   "metadata": {},
   "outputs": [],
   "source": [
    "from pcraster import *\n",
    "from pcraster.framework import *\n",
    "\n",
    "class RunoffModel(DynamicModel):\n",
    "    def __init__(self, cloneMap):\n",
    "        DynamicModel.__init__(self)\n",
    "        setclone(cloneMap)\n",
    "    \n",
    "    def initial(self):\n",
    "        # Ajoutez ici les cartes statiques dont nous avons besoin pour lire à partir du disque\n",
    "        landuse = self.readmap(\"./Data/landuse\")\n",
    "        soil = self.readmap(\"./Data/soil\")\n",
    "        \n",
    "        \n",
    "        # Ajoutez ici les tableaux de correspondance\n",
    "        self.InterceptionThreshold = lookupscalar(\"./Data/d.tbl\",landuse)\n",
    "        self.report(self.InterceptionThreshold,\"d\")\n",
    "    \n",
    "    def dynamic(self):\n",
    "        Precipitation = self.readmap(\"./Data/pr\") \n",
    "        \n",
    "myModel = RunoffModel(\"./Data/mask.map\")\n",
    "dynModelFw = DynamicFramework(myModel, lastTimeStep=10, firstTimestep=1)\n",
    "dynModelFw.run()"
   ]
  },
  {
   "cell_type": "markdown",
   "metadata": {},
   "source": [
    "## 3.2 Définir les paramètres (constantes)\n",
    "Nous devons également définir les paramètres du modèle (constantes) dans la section initiale. Ces constantes seront utilisées dans la section « dynamique », nous devons donc les rendre globales. Ils sont ajoutés ci-dessous avec dans les commentaires leur signification. Plus tard dans la section \"dynamique\", il deviendra plus clair comment ces constantes seront utilisées."
   ]
  },
  {
   "cell_type": "code",
   "execution_count": 1,
   "metadata": {
    "collapsed": true
   },
   "outputs": [
    {
     "ename": "ModuleNotFoundError",
     "evalue": "No module named 'pcraster'",
     "output_type": "error",
     "traceback": [
      "\u001b[1;31m---------------------------------------------------------------------------\u001b[0m",
      "\u001b[1;31mModuleNotFoundError\u001b[0m                       Traceback (most recent call last)",
      "\u001b[1;32m<ipython-input-1-33d17bbe1e46>\u001b[0m in \u001b[0;36m<module>\u001b[1;34m\u001b[0m\n\u001b[1;32m----> 1\u001b[1;33m \u001b[1;32mfrom\u001b[0m \u001b[0mpcraster\u001b[0m \u001b[1;32mimport\u001b[0m \u001b[1;33m*\u001b[0m\u001b[1;33m\u001b[0m\u001b[1;33m\u001b[0m\u001b[0m\n\u001b[0m\u001b[0;32m      2\u001b[0m \u001b[1;32mfrom\u001b[0m \u001b[0mpcraster\u001b[0m\u001b[1;33m.\u001b[0m\u001b[0mframework\u001b[0m \u001b[1;32mimport\u001b[0m \u001b[1;33m*\u001b[0m\u001b[1;33m\u001b[0m\u001b[1;33m\u001b[0m\u001b[0m\n\u001b[0;32m      3\u001b[0m \u001b[1;33m\u001b[0m\u001b[0m\n\u001b[0;32m      4\u001b[0m \u001b[1;32mclass\u001b[0m \u001b[0mRunoffModel\u001b[0m\u001b[1;33m(\u001b[0m\u001b[0mDynamicModel\u001b[0m\u001b[1;33m)\u001b[0m\u001b[1;33m:\u001b[0m\u001b[1;33m\u001b[0m\u001b[1;33m\u001b[0m\u001b[0m\n\u001b[0;32m      5\u001b[0m     \u001b[1;32mdef\u001b[0m \u001b[0m__init__\u001b[0m\u001b[1;33m(\u001b[0m\u001b[0mself\u001b[0m\u001b[1;33m,\u001b[0m \u001b[0mcloneMap\u001b[0m\u001b[1;33m)\u001b[0m\u001b[1;33m:\u001b[0m\u001b[1;33m\u001b[0m\u001b[1;33m\u001b[0m\u001b[0m\n",
      "\u001b[1;31mModuleNotFoundError\u001b[0m: No module named 'pcraster'"
     ]
    }
   ],
   "source": [
    "from pcraster import *\n",
    "from pcraster.framework import *\n",
    "\n",
    "class RunoffModel(DynamicModel):\n",
    "    def __init__(self, cloneMap):\n",
    "        DynamicModel.__init__(self)\n",
    "        setclone(cloneMap)\n",
    "    \n",
    "    def initial(self):\n",
    "        # Ajoutez ici les cartes statiques dont nous avons besoin pour lire à partir du disque\n",
    "        landuse = self.readmap(\"./Data/landuse\")\n",
    "        soil = self.readmap(\"./Data/soil\")\n",
    "        self.metstat = self.readmap(\"./Data/metstat\")\n",
    "        DEM = self.readmap(\"./Data/dem\")\n",
    "        self.mask = self.readmap(\"./Data/mask\")\n",
    "        \n",
    "        # Ajoutez ici les constantes en tant que variables globales\n",
    "        self.Ku = scalar(1.5)                  # Constante de récession de l'écoulement de la zone non saturée à la zone saturée\n",
    "        self.surface = scalar(0.01)            # surface d'une cellule de grille (km2)\n",
    "        self.ConvConst = scalar(0.00001157407) # De mm/10 days à m3/s: *1/1000 * 1/10 *\n",
    "                                               # 1/24 * 1/3600 * 100^2\n",
    "        self.rtq = scalar(1.2)                 # constante de Débit rapide de récession\n",
    "        self.rts = scalar(5.3)                 # constante de Débit lent de récession\n",
    "        self.Su = scalar(50.0)                 # zone de stockage non saturée\n",
    "        self.Ssmax = scalar(0.0)               # paramètre contrôlant le débit des eaux souterraines vers la rivière\n",
    "        self.Ss = scalar(50.0)                 # zone de stockage saturée\n",
    "        \n",
    "        \n",
    "        # Ajoutez ici les tableaux de correspondance\n",
    "        self.InterceptionThreshold = lookupscalar(\"./Data/d.tbl\",landuse)\n",
    "        self.report(self.InterceptionThreshold,\"d\")\n",
    "    \n",
    "    def dynamic(self):\n",
    "        Precipitation = self.readmap(\"./Data/pr\") \n",
    "        \n",
    "myModel = RunoffModel(\"./Data/mask.map\")\n",
    "dynModelFw = DynamicFramework(myModel, lastTimeStep=10, firstTimestep=1)\n",
    "dynModelFw.run()"
   ]
  },
  {
   "cell_type": "markdown",
   "metadata": {},
   "source": [
    "## 3.3 Créer des entrées à partir de tableaux de correspondance\n",
    "Maintenant, nous ajoutons les autres paramètres pour lesquels nous utilisons des tableaux de correspondance\n",
    "\n",
    "Pour la carte des sols, il s'agit de :\n",
    "* Stockage maximum de la zone non saturée 'SuMax' (mm)\n",
    "* Coefficient de débit rapide (-)\n",
    "\n",
    "Nous utilisons des valeurs hypothétiques et des classes de sols.\n",
    "\n",
    "Pour la carte d'occupation des sols, il s'agit de :\n",
    "* Le coefficient de séparation (-)\n",
    "* Élévation capillaire maximale (mm)"
   ]
  },
  {
   "cell_type": "markdown",
   "metadata": {},
   "source": [
    "## 3.4 Créer la carte de direction des écoulements\n",
    "Nous créons également la carte de direction d´écoulement dans la section `initial`. Ajoutez le code à la ligne 46 et exécutez le script."
   ]
  },
  {
   "cell_type": "code",
   "execution_count": null,
   "metadata": {},
   "outputs": [],
   "source": [
    "from pcraster import *\n",
    "from pcraster.framework import *\n",
    "\n",
    "class RunoffModel(DynamicModel):\n",
    "    def __init__(self, cloneMap):\n",
    "        DynamicModel.__init__(self)\n",
    "        setclone(cloneMap)\n",
    "    \n",
    "    def initial(self):\n",
    "        # Ajoutez ici les cartes statiques dont nous avons besoin pour lire à partir du disque\n",
    "        landuse = self.readmap(\"./Data/landuse\")\n",
    "        soil = self.readmap(\"./Data/soil\")\n",
    "        self.metstat = self.readmap(\"./Data/metstat\")\n",
    "        DEM = self.readmap(\"./Data/dem\")\n",
    "        self.mask = self.readmap(\"./Data/mask\")\n",
    "        \n",
    "        # Ajoutez ici les constantes en tant que variables globales\n",
    "        self.Ku = scalar(1.5)                  # Constante de récession de l'écoulement de la zone non saturée à la zone saturée\n",
    "        self.surface = scalar(0.01)            # surface d'une cellule de grille (km2)\n",
    "        self.ConvConst = scalar(0.00001157407) # De mm/10 days à m3/s: *1/1000 * 1/10 *\n",
    "                                               # 1/24 * 1/3600 * 100^2\n",
    "        self.rtq = scalar(1.2)                 # constante de Débit rapide de récession\n",
    "        self.rts = scalar(5.3)                 # constante de Débit lent de récession\n",
    "        self.Su = scalar(50.0)                 # zone de stockage non saturée\n",
    "        self.Ssmax = scalar(0.0)               # paramètre contrôlant le débit des eaux souterraines vers la rivière\n",
    "        self.Ss = scalar(50.0)                 # zone de stockage saturée\n",
    "        \n",
    "        \n",
    "        # Ajoutez ici les tableaux de correspondance\n",
    "        self.InterceptionThreshold = lookupscalar(\"./Data/d.tbl\",landuse)   # seuil d´interception (mm)\n",
    "        self.report(self.InterceptionThreshold,\"./Data/d\")\n",
    "        \n",
    "        self.SuMax = lookupscalar(\"./Data/smax.tbl\",soil)                   # stockage maximal zone non saturée (mm)\n",
    "        self.report(self.SuMax,\"./Data/SuMax\")\n",
    "        \n",
    "        self.SeparationCoefficient = lookupscalar(\"./Data/cr.tbl\",landuse)  # coefficient de séparation (-)\n",
    "        self.report(self.SeparationCoefficient,\"./Data/cr\")\n",
    "        \n",
    "        self.QuickFlowCoefficient = lookupscalar(\"./Data/qc.tbl\",soil)      # Coefficient d'écoulement rapide (-)\n",
    "        self.report(self.QuickFlowCoefficient,\"./Data/Qc\")\n",
    "            \n",
    "        self.MaxCapRise = lookupscalar(\"./Data/cp.tbl\",landuse)             # potentiel de remontée capillaire (mm)\n",
    "        self.report(self.MaxCapRise,\"./Data/cmax\")\n",
    "        \n",
    "        # Ajoutez ici le calcul de la carte de direction d´écoulement\n",
    "   \n",
    "    \n",
    "    def dynamic(self):\n",
    "        Precipitation = self.readmap(\"./Data/pr\") \n",
    "        \n",
    "myModel = RunoffModel(\"./Data/mask.map\")\n",
    "dynModelFw = DynamicFramework(myModel, lastTimeStep=10, firstTimestep=1)\n",
    "dynModelFw.run()"
   ]
  },
  {
   "cell_type": "markdown",
   "metadata": {},
   "source": [
    "Maintenant, cela prend plus de temps pour exécuter le modèle. Mais ce qui est bien, c'est qu'il n'a besoin de générer la carte de direction d´écoulement qu'une seule fois. Dans le futur, vous pourriez même vouloir lire la carte de direction d´écoulement à partir du disque au lieu de la calculer à chaque fois que vous exécutez le modèle.\n",
    "\n",
    "La carte de direction d´écoulement doit être ajustée au masque et rester hydrologiquement correcte. Nous utilisons l'opération [lddmask operation](https://pcraster.geo.uu.nl/pcraster/4.3.0/documentation/pcraster_manual/sphinx/op_lddmask.html).\n",
    "\n",
    "Le code a été ajouté ci-dessous et le résultat est enregistré sur le disque."
   ]
  },
  {
   "cell_type": "code",
   "execution_count": null,
   "metadata": {},
   "outputs": [],
   "source": [
    "from pcraster import *\n",
    "from pcraster.framework import *\n",
    "\n",
    "class RunoffModel(DynamicModel):\n",
    "    def __init__(self, cloneMap):\n",
    "        DynamicModel.__init__(self)\n",
    "        setclone(cloneMap)\n",
    "    \n",
    "    def initial(self):\n",
    "         # Ajoutez ici les cartes statiques dont nous avons besoin pour lire à partir du disque\n",
    "        landuse = self.readmap(\"./Data/landuse\")\n",
    "        soil = self.readmap(\"./Data/soil\")\n",
    "        self.metstat = self.readmap(\"./Data/metstat\")\n",
    "        DEM = self.readmap(\"./Data/dem\")\n",
    "        self.mask = self.readmap(\"./Data/mask\")\n",
    "        \n",
    "        \n",
    "       # Ajoutez ici les constantes en tant que variables globales\n",
    "        self.Ku = scalar(1.5)                  # Constante de récession de l'écoulement de la zone non saturée à la zone saturée\n",
    "        self.surface = scalar(0.01)            # surface d'une cellule de grille (km2)\n",
    "        self.ConvConst = scalar(0.00001157407) # De mm/10 days à m3/s: *1/1000 * 1/10 *\n",
    "                                               # 1/24 * 1/3600 * 100^2\n",
    "        self.rtq = scalar(1.2)                 # constante de Débit rapide de récession\n",
    "        self.rts = scalar(5.3)                 # constante de Débit lent de récession\n",
    "        self.Su = scalar(50.0)                 # zone de stockage non saturée\n",
    "        self.Ssmax = scalar(0.0)               # paramètre contrôlant le débit des eaux souterraines vers la rivière\n",
    "        self.Ss = scalar(50.0)                 # zone de stockage saturée\n",
    "        \n",
    "        \n",
    "        # Ajoutez ici les tableaux de correspondance\n",
    "        self.InterceptionThreshold = lookupscalar(\"./Data/d.tbl\",landuse)   # seuil d´interception (mm)\n",
    "        self.report(self.InterceptionThreshold,\"./Data/d\")\n",
    "        \n",
    "        self.SuMax = lookupscalar(\"./Data/smax.tbl\",soil)                   # stockage maximal zone non saturée (mm)\n",
    "        self.report(self.SuMax,\"./Data/SuMax\")\n",
    "        \n",
    "        self.SeparationCoefficient = lookupscalar(\"./Data/cr.tbl\",landuse)  # coefficient de séparation (-)\n",
    "        self.report(self.SeparationCoefficient,\"./Data/cr\")\n",
    "        \n",
    "        self.QuickFlowCoefficient = lookupscalar(\"./Data/qc.tbl\",soil)      # Coefficient d'écoulement rapide (-)\n",
    "        self.report(self.QuickFlowCoefficient,\"./Data/Qc\")\n",
    "            \n",
    "        self.MaxCapRise = lookupscalar(\"./Data/cp.tbl\",landuse)             # potentiel de remontée capillaire (mm)\n",
    "        self.report(self.MaxCapRise,\"./Data/cmax\")\n",
    "        \n",
    "        # Ajoutez ici le calcul de la carte de direction d´écoulement\n",
    "        self.flowdirection = lddcreate(DEM,1e31,1e31,1e31,1e31)\n",
    "        self.flowdirection = lddmask(self.flowdirection,self.mask)\n",
    "        self.report(self.flowdirection,\"./Data/ldd\")\n",
    " \n",
    "    \n",
    "    def dynamic(self):\n",
    "        Precipitation = self.readmap(\"./Data/pr\") \n",
    "        \n",
    "myModel = RunoffModel(\"./Data/mask.map\")\n",
    "dynModelFw = DynamicFramework(myModel, lastTimeStep=10, firstTimestep=1)\n",
    "dynModelFw.run()"
   ]
  },
  {
   "cell_type": "markdown",
   "metadata": {},
   "source": [
    "Nous pouvons maintenant procéder à la construction du modèle dynamique dans la section suivante."
   ]
  },
  {
   "cell_type": "markdown",
   "metadata": {},
   "source": [
    "< [The PCRaster Dynamic Modelling Framework](PCRasterDynamicModellingFramework.ipynb) | [Contents](Contents.ipynb) | [Building the dynamic model](STREAM_Dynamic.ipynb) >"
   ]
  }
 ],
 "metadata": {
  "kernelspec": {
   "display_name": "Python 3",
   "language": "python",
   "name": "python3"
  },
  "language_info": {
   "codemirror_mode": {
    "name": "ipython",
    "version": 3
   },
   "file_extension": ".py",
   "mimetype": "text/x-python",
   "name": "python",
   "nbconvert_exporter": "python",
   "pygments_lexer": "ipython3",
   "version": "3.7.9"
  }
 },
 "nbformat": 4,
 "nbformat_minor": 4
}
