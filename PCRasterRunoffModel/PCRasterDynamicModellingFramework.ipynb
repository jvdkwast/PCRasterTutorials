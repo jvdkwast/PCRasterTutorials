{
 "cells": [
  {
   "cell_type": "markdown",
   "metadata": {},
   "source": [
    "< [Introduction](Introduction.ipynb) | [Contents](Contents.ipynb) | [Prepare the initial section of the model](STREAM_Initial.ipynb) >"
   ]
  },
  {
   "cell_type": "markdown",
   "metadata": {},
   "source": [
    "# 2. Cadre de modélisation dynamique de PCRaster\n",
    "Dans les tutoriels précédents, vous avez travaillé avec le package PCRaster pour l'algèbre de carte. Cependant, la véritable puissance de PCRaster réside dans son cadre de modélisation dynamique. Dans cette section, vous allez en apprendre plus sur le cadre de modélisation dynamique. Dans les prochaines sections, nous allons construire le modèle STREAM pour simuler le ruissellement dans le bassin supérieur de la rivière Mara, au Kenya."
   ]
  },
  {
   "cell_type": "markdown",
   "metadata": {},
   "source": [
    "Le cadre de modélisation dynamique PCRaster peut être utilisé avec le modèle suivant :\n",
    "```Python\n",
    "from pcraster import *\n",
    "from pcraster.framework import *\n",
    "\n",
    "class RunoffModel(DynamicModel):\n",
    "  def __init__(self, cloneMap):\n",
    "    DynamicModel.__init__(self)\n",
    "    setclone(cloneMap)\n",
    "\n",
    "  def initial(self):\n",
    "      # Ici, vous écrivez le code qui doit être exécuté une seule fois.\n",
    "  \n",
    "  def dynamic(self):\n",
    "      #  Ici, vous écrivez le code qui doit être exécuté à chaque pas de temps.\n",
    "  \n",
    "myModel = RunoffModel(\"mask.map\")\n",
    "dynModelFw = DynamicFramework(myModel, lastTimeStep=100, firstTimestep=1)\n",
    "dynModelFw.run()\n",
    "```\n"
   ]
  },
  {
   "cell_type": "markdown",
   "metadata": {},
   "source": [
    "Lorsque vous créez votre propre modèle, vous devez modifier les éléments suivants dans ce modèle :\n",
    "1. Définissez la carte de clone. Dans ce cas, elle s'appelle `mask.map`. Toutes les cartes matricielles doivent avoir les mêmes propriétés que la carte clone (c'est à dire le même nombre de lignes et de colonnes, le même système de coordonnées, l'étendue, la taille des pixels). PCRaster vérifie cela lorsque le code est exécuté.\n",
    "2. Définissez les pas de temps. Ici, `lastTimeStep=100` et `firstTimestep=1` signifient que le modèle exécute 100 pas de temps en commençant par le pas de temps 1.\n",
    "3. Sous `def initial(self)`, vous écrivez le code qui doit être exécuté une seule fois, c'est-à-dire pour l'initialisation du modèle.\n",
    "4. Sous `def dynamic(self)`, vous écrivez le code qui doit être exécuté à chaque pas de temps, c'est-à-dire les itérations.\n",
    "\n",
    "Voyons comment cela fonctionne en exécutant le code ci-dessous.\n"
   ]
  },
  {
   "cell_type": "code",
   "execution_count": null,
   "metadata": {},
   "outputs": [],
   "source": [
    "from pcraster import *\n",
    "from pcraster.framework import *\n",
    "\n",
    "class RunoffModel(DynamicModel):\n",
    "    def __init__(self, cloneMap):\n",
    "        DynamicModel.__init__(self)\n",
    "        setclone(cloneMap)\n",
    "    \n",
    "    def initial(self):\n",
    "        pass\n",
    "        \n",
    "        \n",
    "        \n",
    "    \n",
    "    def dynamic(self):\n",
    "        pass\n",
    "        \n",
    "        \n",
    "\n",
    "  \n",
    "myModel = RunoffModel(\"./Data/mask.map\")\n",
    "dynModelFw = DynamicFramework(myModel, lastTimeStep=10, firstTimestep=1)\n",
    "dynModelFw.run()"
   ]
  },
  {
   "cell_type": "markdown",
   "metadata": {},
   "source": [
    "Notez que pour chaque itération dans la section `dynamique`, il imprime un `.`."
   ]
  },
  {
   "cell_type": "markdown",
   "metadata": {},
   "source": [
    "Si nous voulons utiliser des variables et des constantes, nous pouvons le faire de différentes manières.\n",
    "Jetez un coup d'œil au script ci-dessous et exécutez-le."
   ]
  },
  {
   "cell_type": "code",
   "execution_count": null,
   "metadata": {},
   "outputs": [],
   "source": [
    "from pcraster import *\n",
    "from pcraster.framework import *\n",
    "\n",
    "class RunoffModel(DynamicModel):\n",
    "    def __init__(self, cloneMap):\n",
    "        DynamicModel.__init__(self)\n",
    "        setclone(cloneMap)\n",
    "    \n",
    "    def initial(self):\n",
    "        a = 0\n",
    "        b = a + 1\n",
    "        print(b)\n",
    "    \n",
    "    def dynamic(self):\n",
    "        c = 1\n",
    "        d = c + 1\n",
    "        print(d)\n",
    "        \n",
    "myModel = RunoffModel(\"./Data/mask.map\")\n",
    "dynModelFw = DynamicFramework(myModel, lastTimeStep=10, firstTimestep=1)\n",
    "dynModelFw.run()"
   ]
  },
  {
   "cell_type": "markdown",
   "metadata": {},
   "source": [
    "Elles sont appelées *variables locales*. Elles ne peuvent être utilisées que dans la fonction où elles sont définies, mais pas en dehors. Vérifiez ce qui se passe si nous exécutons le code ci-dessous."
   ]
  },
  {
   "cell_type": "code",
   "execution_count": null,
   "metadata": {},
   "outputs": [],
   "source": [
    "from pcraster import *\n",
    "from pcraster.framework import *\n",
    "\n",
    "class RunoffModel(DynamicModel):\n",
    "    def __init__(self, cloneMap):\n",
    "        DynamicModel.__init__(self)\n",
    "        setclone(cloneMap)\n",
    "    \n",
    "    def initial(self):\n",
    "        a = 0\n",
    "    \n",
    "    def dynamic(self):\n",
    "        b = a + 1\n",
    "        print(b)\n",
    "        \n",
    "myModel = RunoffModel(\"./Data/mask.map\")\n",
    "dynModelFw = DynamicFramework(myModel, lastTimeStep=10, firstTimestep=1)\n",
    "dynModelFw.run()"
   ]
  },
  {
   "cell_type": "markdown",
   "metadata": {},
   "source": [
    "`NameError : name 'a' is not defined` signifie qu'à la ligne 13, Python ne connaît pas encore la variable `a`. Si nous voulons utiliser la variable `a` dans la section `dynamique`, nous devons en faire une *variable globale*. Nous faisons cela en ajoutant `self.` devant la variable. Vérifiez le script modifié ci-dessous et exécutez-le."
   ]
  },
  {
   "cell_type": "code",
   "execution_count": null,
   "metadata": {},
   "outputs": [],
   "source": [
    "from pcraster import *\n",
    "from pcraster.framework import *\n",
    "\n",
    "class RunoffModel(DynamicModel):\n",
    "    def __init__(self, cloneMap):\n",
    "        DynamicModel.__init__(self)\n",
    "        setclone(cloneMap)\n",
    "    \n",
    "    def initial(self):\n",
    "        self.a = 0\n",
    "    \n",
    "    def dynamic(self):\n",
    "        b = self.a + 1\n",
    "        print(b)\n",
    "        \n",
    "myModel = RunoffModel(\"./Data/mask.map\")\n",
    "dynModelFw = DynamicFramework(myModel, lastTimeStep=10, firstTimestep=1)\n",
    "dynModelFw.run()"
   ]
  },
  {
   "cell_type": "markdown",
   "metadata": {},
   "source": [
    "Maintenant nous pouvons facilement augmenter la variable `b` à chaque pas de temps. Vérifiez le code suivant et exécutez-le."
   ]
  },
  {
   "cell_type": "code",
   "execution_count": null,
   "metadata": {},
   "outputs": [],
   "source": [
    "from pcraster import *\n",
    "from pcraster.framework import *\n",
    "\n",
    "class RunoffModel(DynamicModel):\n",
    "    def __init__(self, cloneMap):\n",
    "        DynamicModel.__init__(self)\n",
    "        setclone(cloneMap)\n",
    "    \n",
    "    def initial(self):\n",
    "        self.a = 0\n",
    "    \n",
    "    def dynamic(self):\n",
    "        b = self.a + 1\n",
    "        self.a = b\n",
    "        print(self.a)\n",
    "        \n",
    "myModel = RunoffModel(\"./Data/mask.map\")\n",
    "dynModelFw = DynamicFramework(myModel, lastTimeStep=10, firstTimestep=1)\n",
    "dynModelFw.run()"
   ]
  },
  {
   "cell_type": "markdown",
   "metadata": {},
   "source": [
    "Dans le tutoriel sur l'algèbre de carte, vous avez appris qu'avec `readmap` vous pouvez lire des cartes PCRaster depuis le disque et qu'avec `report` vous pouvez écrire des cartes PCRaster sur le disque. Dans le cadre de la modélisation dynamique, c'est toujours le cas, mais le format de lecture et d'écriture dépend de l'endroit où vous utilisez `readmap` et `report`.\n",
    "\n",
    "Dans la section `initial`, nous pouvons lire la carte d'utilisation des terres et la carte des sols depuis le disque en utilisant le code ci-dessous. Vous pouvez l'exécuter pour voir s'il fonctionne."
   ]
  },
  {
   "cell_type": "code",
   "execution_count": null,
   "metadata": {},
   "outputs": [],
   "source": [
    "from pcraster import *\n",
    "from pcraster.framework import *\n",
    "\n",
    "class RunoffModel(DynamicModel):\n",
    "    def __init__(self, cloneMap):\n",
    "        DynamicModel.__init__(self)\n",
    "        setclone(cloneMap)\n",
    "    \n",
    "    def initial(self):\n",
    "        self.landuse = self.readmap(\"./Data/landuse\")\n",
    "        self.soil = self.readmap(\"./Data/soil\")\n",
    "    \n",
    "    def dynamic(self):\n",
    "        pass\n",
    "        \n",
    "myModel = RunoffModel(\"./Data/mask.map\")\n",
    "dynModelFw = DynamicFramework(myModel, lastTimeStep=10, firstTimestep=1)\n",
    "dynModelFw.run()"
   ]
  },
  {
   "cell_type": "markdown",
   "metadata": {},
   "source": [
    "Bien que nous n'ayons pas donné l'extension du fichier, le script s'exécute sans erreur. C'est parce que le framework comprend que si vous utilisez `self.readmap` dans la section `initial`, ce sera toujours une carte statique avec l'extension de fichier `.map`.\n",
    "\n",
    "Il comprendra également que si vous utilisez `self.readmap` dans la section `dynamic`, il doit rechercher les piles de cartes dynamiques PCRaster. Ces séries chronologiques de cartes ont une convention de nommage : au moins un caractère alphabétique suivi de zéros jusqu'à ce que le nombre total de caractères avant le point soit de huit. Après le point (la partie extension du nom du fichier), il y aura 001 pour le premier pas de temps, 002 pour le deuxième, etc.\n",
    "\n",
    "Dans le dossier `Data`, vous trouverez une pile de cartes dynamiques PCRaster pour les précipitations (mm/10 jours). Ce sont les fichiers suivants pour les 10 pas de temps de notre modèle :\n",
    "```\n",
    "pr000000.001\n",
    "pr000000.002\n",
    "pr000000.003\n",
    "pr000000.004\n",
    "pr000000.005\n",
    "pr000000.006\n",
    "pr000000.007\n",
    "pr000000.008\n",
    "pr000000.009\n",
    "pr000000.010\n",
    "```\n",
    "\n",
    "Lisons-les dans la section `dynamic` et voyons si le script s'exécute."
   ]
  },
  {
   "cell_type": "code",
   "execution_count": null,
   "metadata": {},
   "outputs": [],
   "source": [
    "from pcraster import *\n",
    "from pcraster.framework import *\n",
    "\n",
    "class RunoffModel(DynamicModel):\n",
    "    def __init__(self, cloneMap):\n",
    "        DynamicModel.__init__(self)\n",
    "        setclone(cloneMap)\n",
    "    \n",
    "    def initial(self):\n",
    "        landuse = self.readmap(\"./Data/landuse\")\n",
    "        soil = self.readmap(\"./Data/soil\")\n",
    "    \n",
    "    def dynamic(self):\n",
    "        Precipitation = self.readmap(\"./Data/pr\") \n",
    "        \n",
    "myModel = RunoffModel(\"./Data/mask.map\")\n",
    "dynModelFw = DynamicFramework(myModel, lastTimeStep=10, firstTimestep=1)\n",
    "dynModelFw.run()"
   ]
  },
  {
   "cell_type": "markdown",
   "metadata": {},
   "source": [
    "Le script s'exécute sans erreur et les cartes statiques et dynamiques ont été lues et nous pouvons les utiliser dans le script.\n",
    "\n",
    "Utilisons un tableau de correspondance pour créer une carte avec le seuil d'interception à partir de la carte d'utilisation des terres. Nous allons utiliser la carte d'utilisation des terres de [FAO WaPOR] (https://wapor.apps.fao.org/). Dans le dossier `Data`, vous trouverez `d.tbl` qui contient le seuil d'interception pour différents types d'utilisation du sol.\n",
    "\n",
    "| Valeur de la cellule | Utilisation du sol | Seuil d'interception (mm)\n",
    "| ---------- | -------- | ---------------------------\n",
    "| 1 | Forêt | 60\n",
    "| 2 | Buisson dense | 50\n",
    "| 3 | Zone Boisée | 40\n",
    "| 4 | Buisson clairsemé | 40\n",
    "| 5 | Pâturages | 10\n",
    "| 11 | Agriculture dense | 25\n",
    "| 12 | Agriculture éparse | 20\n",
    "| 13 | Plantation | 15\n",
    "\n",
    "\n",
    "Nous écrivons également le résultat sur le disque en utilisant `self.report`."
   ]
  },
  {
   "cell_type": "code",
   "execution_count": null,
   "metadata": {},
   "outputs": [],
   "source": [
    "from pcraster import *\n",
    "from pcraster.framework import *\n",
    "\n",
    "class RunoffModel(DynamicModel):\n",
    "    def __init__(self, cloneMap):\n",
    "        DynamicModel.__init__(self)\n",
    "        setclone(cloneMap)\n",
    "    \n",
    "    def initial(self):\n",
    "        landuse = self.readmap(\"./Data/landuse\")\n",
    "        soil = self.readmap(\"./Data/soil\")\n",
    "        self.InterceptionThreshold = lookupscalar(\"./Data/d.tbl\",landuse)\n",
    "        self.report(self.InterceptionThreshold,\"./Data/d\")\n",
    "    \n",
    "    def dynamic(self):\n",
    "        Precipitation = self.readmap(\"./Data/pr\") \n",
    "        \n",
    "myModel = RunoffModel(\"./Data/mask.map\")\n",
    "dynModelFw = DynamicFramework(myModel, lastTimeStep=10, firstTimestep=1)\n",
    "dynModelFw.run()"
   ]
  },
  {
   "cell_type": "markdown",
   "metadata": {},
   "source": [
    "Visualisez la carte d'occupation des sols et la carte avec le seuil d'interception."
   ]
  },
  {
   "cell_type": "code",
   "execution_count": null,
   "metadata": {},
   "outputs": [],
   "source": [
    "aguila(\"./Data/landuse.map\",\"./Data/d.map\")"
   ]
  },
  {
   "cell_type": "markdown",
   "metadata": {},
   "source": [
    "Maintenant que nous sommes un peu plus familiers avec le cadre de modélisation dynamique de PCRaster, nous pouvons commencer à développer la section `initiale` du modèle."
   ]
  },
  {
   "cell_type": "markdown",
   "metadata": {},
   "source": [
    "< [Introduction](Introduction.ipynb) | [Contents](Contents.ipynb) | [Prepare the initial section of the model](STREAM_Initial.ipynb) >"
   ]
  }
 ],
 "metadata": {
  "kernelspec": {
   "display_name": "Python 3",
   "language": "python",
   "name": "python3"
  },
  "language_info": {
   "codemirror_mode": {
    "name": "ipython",
    "version": 3
   },
   "file_extension": ".py",
   "mimetype": "text/x-python",
   "name": "python",
   "nbconvert_exporter": "python",
   "pygments_lexer": "ipython3",
   "version": "3.7.9"
  }
 },
 "nbformat": 4,
 "nbformat_minor": 4
}
