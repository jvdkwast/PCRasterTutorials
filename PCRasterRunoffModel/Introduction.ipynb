{
 "cells": [
  {
   "cell_type": "markdown",
   "metadata": {},
   "source": [
    "< [Contents](contents.ipynb) | [The PCRaster Dynamic Modelling Framework](PCRasterDynamicModellingFramework.ipynb) >"
   ]
  },
  {
   "cell_type": "markdown",
   "metadata": {},
   "source": [
    "# 1. Introduction\n",
    "Dans ce tutoriel, vous apprendrez à construire un modèle dynamique avec PCRaster.\n",
    "Après ce tutoriel, vous serez en mesure de :\n",
    "1. Utiliser le cadre de modélisation dynamique PCRaster Python.\n",
    "2. Utiliser les opérations PCRaster pour initialiser les modèles\n",
    "3. Utiliser les opérations PCRaster pour la modélisation dynamique\n",
    "4. Utiliser les opérations PCRaster pour rapporter les résultats des modèles spatiaux et/ou temporels.\n",
    "5. Développer vos propres modèles dynamiques spatiaux."
   ]
  },
  {
   "cell_type": "markdown",
   "metadata": {},
   "source": [
    "Nous allons mettre en œuvre un modèle de ruissellement pluvial basé sur le modèle STREAM. Nous allons l'appliquer au bassin supérieur de la rivière Mara au Kenya. STREAM est un modèle hydrologique basé sur le SIG. Il utilise des couches SIG en combinaison avec un script Python PCRaster pour décrire les processus hydrologiques dans un bassin versant.\n",
    "\n",
    "Dans la section suivante, nous vous présenterons le cadre de modélisation dynamique de PCRaster. Ensuite, nous commencerons à construire la section `initiale` du modèle, suivie de la section `dynamique`."
   ]
  },
  {
   "cell_type": "markdown",
   "metadata": {},
   "source": [
    "## Références\n",
    "*Aerts, J., de Moel, H., 2004. STREAM : a spatial tool for analyses in river basins. Clim. Coast. Coop. 152–154.*\n",
    "\n",
    "*Kiptala, J.K., Mul, M.L., Mohamed, Y.A., Van Der Zaag, P., 2014. Modelling stream flow and quantifying  blue  water  using  a  modified  STREAM  model  for  a  heterogeneous,  highly utilized  and  data-scarce  river  basin  in  Africa.  Hydrol.  Earth  Syst.  Sci.  18,  2287–2303. https://doi.org/10.5194/hess-18-2287-2014*\n",
    "\n",
    "## Remerciements\n",
    "*Merci à [Shisiali Ashiono](https://www.linkedin.com/in/shisiali-ashiono-7b36b0120/) pour avoir fourni des données et des scripts servant de base à ce tutoriel.*"
   ]
  },
  {
   "cell_type": "markdown",
   "metadata": {},
   "source": [
    "< [Contents](contents.ipynb) | [The PCRaster Dynamic Modelling Framework](PCRasterDynamicModellingFramework.ipynb) >"
   ]
  }
 ],
 "metadata": {
  "kernelspec": {
   "display_name": "Python 3",
   "language": "python",
   "name": "python3"
  },
  "language_info": {
   "codemirror_mode": {
    "name": "ipython",
    "version": 3
   },
   "file_extension": ".py",
   "mimetype": "text/x-python",
   "name": "python",
   "nbconvert_exporter": "python",
   "pygments_lexer": "ipython3",
   "version": "3.7.9"
  }
 },
 "nbformat": 4,
 "nbformat_minor": 4
}
